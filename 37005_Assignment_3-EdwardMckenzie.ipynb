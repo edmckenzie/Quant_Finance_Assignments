{
 "cells": [
  {
   "cell_type": "markdown",
   "metadata": {
    "pycharm": {
     "name": "#%% md\n"
    }
   },
   "source": [
    "<h1 style=\"font-family:Impact,Arial;font-size:30px;\">Currency option market quotes</h1>\n",
    "\n",
    "Currency options are often quoted in the market in terms of implied volatilities, for at–the–money (ATM), and for 25% and 10% \"delta\" risk reversals (RR) and butterflies (BF). The quoted ATM volatility is the Black/Scholes implied volatility of an option with strike equal to the forward exchange rate. The \"implied volatility\" of an $x\\%$ delta risk reversal is given by the difference between the Black/Scholes implied volatility of an $x\\%$ delta out–of–the–money call and the Black/Scholes implied volatility of an $x\\%$ delta out–of–the–money put. The \"implied volatility\" of an $x\\%$ delta butterfly is given by the average of the Black/Scholes implied volatility of an $x\\%$ delta out–of–the–money call and the Black/Scholes implied volatility of an $x\\%$ delta out–of–the–money put, minus the ATM volatility. Consider the following data for currency options maturing in one month’s time (implied volatilities in percentage points):\n",
    "\n",
    "<table>\n",
    "    <tr><th>ATM </th><th> 25D RR </th><th> 25D BF </th><th> 10D RR </th><th> 10D BF </th></tr>\n",
    "    <tr><th>9.5750 </th><th> -0.4500 </th><th>0.2750 </th><th>-0.7500 </th><th>1.1250 </th></tr>\n",
    "</table>\n",
    "\n",
    "The spot exchange rate is 1.47565 units of domestic currency per unit of foreign currency, the domestic interest rate $r$ is 3.285% continuously compounded and the foreign interest rate $r_f$ is 4.179% continuously compounded.\n",
    "\n",
    "<B>Task:</B> Determine the Black/Scholes implied volatilities of the out–of–the–money call and put options. Plot the implied volatility smile."
   ]
  },
  {
   "cell_type": "markdown",
   "metadata": {
    "pycharm": {
     "name": "#%% md\n"
    }
   },
   "source": [
    "In order to calculate the respective call and put implied volatilities at the different delta levels we must rearrange the equations for the risk reversal and butterfly strategies to allow us to solve a system of equations. The system of equations used to solve for the call and put implied volatilities is given by:\n",
    "\n",
    "Matrix 1:\n",
    "$$-0.45 = \\sigma_{25\\Delta,C}  - \\sigma_{25\\Delta,P}$$\n",
    "$$19.7 = \\sigma_{25\\Delta,C}  + \\sigma_{25\\Delta,P}$$\n",
    "\n",
    "\n",
    "Matrix 2:\n",
    "$$-0.75 = \\sigma_{10\\Delta,C}  - \\sigma_{10\\Delta,P}$$\n",
    "$$21.4 = \\sigma_{10\\Delta,C}  + \\sigma_{10\\Delta,P}$$"
   ]
  },
  {
   "cell_type": "code",
   "execution_count": 5,
   "metadata": {
    "pycharm": {
     "name": "#%%\n"
    }
   },
   "outputs": [
    {
     "name": "stdout",
     "output_type": "stream",
     "text": [
      "[ 9.625 10.075]\n",
      "[10.325 11.075]\n"
     ]
    },
    {
     "data": {
      "image/png": "[encoded data removed]",
      "text/plain": [
       "<Figure size 432x288 with 1 Axes>"
      ]
     },
     "metadata": {
      "needs_background": "light"
     },
     "output_type": "display_data"
    }
   ],
   "source": [
    "import numpy as np\n",
    "import matplotlib.pyplot as plt\n",
    "\n",
    "A = np.array([[1,-1],[1,1]])\n",
    "B = np.array([-0.45,19.7])\n",
    "x = np.linalg.solve(A,B)\n",
    "print(x)\n",
    "\n",
    "call_25D_sgm = x[0]\n",
    "put_25D_sgm = x[1]\n",
    "\n",
    "C = np.array([[1,-1], [1,1]])\n",
    "D = np.array([-0.75,21.4])\n",
    "y = np.linalg.solve(C,D)\n",
    "print(y)\n",
    "\n",
    "call_10D_sgm = y[0]\n",
    "put_10D_sgm = y[1]\n",
    "\n",
    "atm = 9.5750\n",
    "\n",
    "y = [put_10D_sgm, put_25D_sgm, atm, call_25D_sgm, call_10D_sgm]\n",
    "x = np.linspace(-1,1,5)\n",
    "\n",
    "plt.plot(x,y)\n",
    "plt.ylabel(\"Implied Volatilities\")\n",
    "plt.title(\"Implied Volatility Smile\")\n",
    "plt.show()"
   ]
  },
  {
   "cell_type": "markdown",
   "metadata": {
    "pycharm": {
     "name": "#%% md\n"
    }
   },
   "source": [
    "In the market quotes above, the delta determines the strikes of the out–of–the–money options, which are such that the absolute value of the option delta equals the prescribed level. For the options considered here, we have for the strike $K_{\\omega,\\Delta}$:\n",
    "$$ K_{\\omega,\\Delta} = F(0,T)\\exp\\left\\{-\\omega N^{-1}(\\omega e^{r_fT}\\Delta)\\sigma_{\\omega,\\Delta}\\sqrt{T}+\\frac12\\sigma^2_{\\omega,\\Delta}T\\right\\} $$\n",
    "where $F(0,T)$ is the forward exchange rate for the option maturity $T$, $\\omega = 1$ for a call and $\\omega = -1$ for a put, $\\Delta$ is the option delta (where put option delta is negative), and $\\sigma_{\\omega,\\Delta}$ is the Black/Scholes implied volatility of the (call or put) option with delta $\\Delta$. $N^{-1}$ is the inverse of the standard normal cumulative distribution function - this is available as `norm.ppf()` in the `scipy.stats` package.\n",
    "\n",
    "**Task:** Calculate the five option strikes for the European options determining the quotes in the above table. Determine the prices of European call options at these five strikes consistent with the above quotes (you may assume that put/call parity holds, i.e. the Black/Scholes implied volatilities of call and put options at a fixed strike are the same)."
   ]
  },
  {
   "cell_type": "code",
   "execution_count": 2,
   "metadata": {
    "pycharm": {
     "name": "#%%\n"
    }
   },
   "outputs": [
    {
     "name": "stdout",
     "output_type": "stream",
     "text": [
      "1.4745510501596442\n",
      "The strike for the 10% Delta out of the money put is: 1.4161698164742649\n",
      "The strike for the 25% Delta out of the money put is: 1.4466338652393922\n",
      "The strike for the ATM option is: 1.4749361790303146\n",
      "The strike for the 10% Delta out of the money call is: 1.5325547886489035\n",
      "The strike for the 25% Delta out of the money call is: 1.5029112684680703\n"
     ]
    }
   ],
   "source": [
    "from scipy.stats import norm\n",
    "\n",
    "r_f = 0.04179\n",
    "r_d = 0.03285\n",
    "spot = 1.47565\n",
    "dt = 1/12\n",
    "f_t = spot*np.exp((r_d - r_f)*dt)\n",
    "print(f_t)\n",
    "\n",
    "implied_sgm = [put_10D_sgm, put_25D_sgm, atm, call_25D_sgm, call_10D_sgm]\n",
    "\n",
    "def strike(forward_rate,callput,foreign_rate,sgm,T,delta):\n",
    "    return forward_rate*np.exp((-callput*norm.ppf(callput*np.exp(foreign_rate*T)*delta)*(sgm/100)*np.sqrt(T)) + (0.5*(sgm/100)**2*T))\n",
    "\n",
    "put_10D_strike = strike(f_t,-1,r_f,put_10D_sgm,dt,-0.10)\n",
    "put_25D_strike = strike(f_t,-1,r_f,put_25D_sgm,dt,-0.25)\n",
    "atm_strike = strike(f_t,1,r_f,atm,dt,0.5)\n",
    "call_10D_strike = strike(f_t,1,r_f,call_10D_sgm,dt,0.10)\n",
    "call_25D_strike = strike(f_t,1,r_f,call_25D_sgm,dt,0.25)\n",
    "\n",
    "print(f\"The strike for the 10% Delta out of the money put is: {put_10D_strike}\")\n",
    "print(f\"The strike for the 25% Delta out of the money put is: {put_25D_strike}\")\n",
    "print(f\"The strike for the ATM option is: {atm_strike}\")\n",
    "print(f\"The strike for the 10% Delta out of the money call is: {call_10D_strike}\")\n",
    "print(f\"The strike for the 25% Delta out of the money call is: {call_25D_strike}\")"
   ]
  },
  {
   "cell_type": "markdown",
   "metadata": {
    "pycharm": {
     "name": "#%% md\n"
    }
   },
   "source": [
    "Assuming the implied volatilities between call and puts are the same at a fixed strike, we can use the call option pricing formula at each strike and its respective implied volatility to calculate the 5 option prices. The pricing formula is given by:\n",
    "\n",
    "$$C = S_0e^{-r_fT}\\mathcal{N}(d1) - Ke^{r_dT}\\mathcal{N}(d2)$$\n",
    "\n",
    "$$d1 = \\frac{ln(S_0/K) + (r_d - r_f + \\sigma^2/2)T}{\\sigma\\sqrt{T}}$$\n",
    "\n",
    "$$d2 = d1 - \\sigma\\sqrt{T}$$\n"
   ]
  },
  {
   "cell_type": "code",
   "execution_count": 4,
   "metadata": {
    "pycharm": {
     "name": "#%%\n"
    }
   },
   "outputs": [
    {
     "name": "stdout",
     "output_type": "stream",
     "text": [
      "The price of the first call option is: 0.06048681708666526\n",
      "The price of the second call option is: 0.03434399208792693\n",
      "The price of the ATM option is: 0.01602574276939106\n",
      "The price of the fourth call option is: 0.0060380187641478344\n",
      "The price of the fifth call option is: 0.0020582374833789385\n"
     ]
    }
   ],
   "source": [
    "r_f = 0.04179\n",
    "r_d = 0.03285\n",
    "spot = 1.47565\n",
    "dt = 1/12\n",
    "\n",
    "def foreign_exchange_call(S,K,sgm,r_domestic,r_foreign,T):\n",
    "    d1 = (np.log(S/K) + (r_domestic - r_foreign + 0.5*(sgm/100)**2) * T) / ((sgm/100) * np.sqrt(T))\n",
    "    d2 = d1 - (sgm/100)*np.sqrt(T)\n",
    "\n",
    "    price = S*np.exp(-r_foreign*T)*norm.cdf(d1) - K*np.exp(-r_domestic*T)*norm.cdf(d2)\n",
    "    return price\n",
    "\n",
    "call_1 = foreign_exchange_call(spot,put_10D_strike,put_10D_sgm,r_d,r_f,dt)\n",
    "call_2 = foreign_exchange_call(spot, put_25D_strike,put_25D_sgm,r_d,r_f,dt)\n",
    "call_3 = foreign_exchange_call(spot,atm_strike,atm,r_d,r_f,dt)\n",
    "call_4 = foreign_exchange_call(spot,call_25D_strike,call_25D_sgm,r_d,r_f,dt)\n",
    "call_5 = foreign_exchange_call(spot,call_10D_strike,call_10D_sgm,r_d,r_f,dt)\n",
    "\n",
    "print(f\"The price of the first call option is: {call_1}\")\n",
    "print(f\"The price of the second call option is: {call_2}\")\n",
    "print(f\"The price of the ATM option is: {call_3}\")\n",
    "print(f\"The price of the fourth call option is: {call_4}\")\n",
    "print(f\"The price of the fifth call option is: {call_5}\")"
   ]
  },
  {
   "cell_type": "markdown",
   "metadata": {
    "pycharm": {
     "name": "#%% md\n"
    }
   },
   "source": [
    "<h1 style=\"font-family:Impact,Arial;font-size:30px;\">Option pricing in the presence of jumps</h1>\n",
    "\n",
    "Consider the option pricing formula in the Black/Scholes model augmented by jumps, as derived in Lecture 10 (see equation (70) of that lecture). Note that the relevant inputs defining the stochastic dynamics of the underlying asset under the risk-neutral measure are the initial asset price $S$, the volatility of the diffusion component $\\sigma$, the continuously compounded interest rate $r$, the intensity $\\lambda$ of the Poisson process triggering the jumps (see slide 6 of the lecture), the expected proportional change $k$ in the asset price when a jump occurs (defined in equation (24) of the lecture), and the standard deviation of the logarithmic proportional jumps $\\delta$ (as defined by equation (28) of the lecture)."
   ]
  },
  {
   "cell_type": "markdown",
   "metadata": {
    "pycharm": {
     "name": "#%% md\n"
    }
   },
   "source": [
    "**Task**\n",
    "\n",
    "Using the scaffold provided, implement a Python function `JumpBlackScholes(S,K,sgm,r,T,callput,k,lam,delta,eps)`, returning the price of a European option in the Black/Scholes model augmented by jumps, with arguments of `S =` $S$, `sgm =` $\\sigma$, `r =` $r$, `k =` $k$, `lam =` $\\lambda$, `delta =` $\\delta$, as well as the strike `K` and maturity `T` of the option, where `callput` is $1$ for a call and $-1$ for a put, and the infinite sum in equation (70) of the lecture is truncated once further terms in the summation decrease below the threshold given by `eps`.\n",
    "\n",
    "Note that the factorial appearing in equation (70) can be evaluated using the function `factorial` imported from the `math` package.\n",
    "\n",
    "**Example**\n",
    "\n",
    "`Enter the underlying stock price: 100\n",
    "Enter the strike price: 110\n",
    "Enter the volatility: 0.2\n",
    "Enter continuously compounded interest rate: 0.05\n",
    "Enter the time to maturity: 0.5 \n",
    "Enter 1 for call or -1 for put option: 1 \n",
    "Enter the expected proportional change in the asset price when a jump occurs: 0.1 \n",
    "Enter the intensity of the jump process: 1.0 \n",
    "Enter the standard deviation of the logarithmic proportional jumps: 0.05 \n",
    "Enter the threshold at which to truncate the infinite sum: 1e-7 \n",
    "The option price is 3.6994861009744047`"
   ]
  },
  {
   "cell_type": "code",
   "execution_count": 25,
   "metadata": {
    "pycharm": {
     "name": "#%%\n"
    }
   },
   "outputs": [
    {
     "name": "stdout",
     "output_type": "stream",
     "text": [
      "The option price is 3.6994861009744047\n"
     ]
    }
   ],
   "source": [
    "# your code here\n",
    "from scipy.stats import norm\n",
    "import numpy as np\n",
    "import math\n",
    "\n",
    "def JumpBlackScholes(S, K, sgm, r, T, callput, k, lam, delta, eps):\n",
    "\n",
    "    n = 0\n",
    "    summation = 1\n",
    "    value = 0\n",
    "\n",
    "    gam = np.log(1+k)\n",
    "    lam_prime = lam*(1+k)\n",
    "\n",
    "    def standard_call(S,K,sgm,r,T):\n",
    "        d1 = (np.log(S/K) + (r+0.5*sgm**2) * T) / (sgm * np.sqrt(T))\n",
    "        d2 = d1 - sgm*np.sqrt(T)\n",
    "        price = S*norm.cdf(d1) - K*np.exp(-r*T)*norm.cdf(d2)\n",
    "        return price\n",
    "\n",
    "    def standard_put(S,K,sgm,r,T):\n",
    "        d1 = (np.log(S/K) + (r+0.5*sgm**2) * T) / (sgm * np.sqrt(T))\n",
    "        d2 = d1 - sgm*np.sqrt(T)\n",
    "        price = K*np.exp(-r*T)*norm.cdf(-d2) - S*norm.cdf(-d1)\n",
    "        return price\n",
    "\n",
    "    while summation >= eps:\n",
    "\n",
    "        r_n = r - lam*k + (n*gam)/T\n",
    "        v = np.sqrt(sgm**2 + (n*delta**2)/T)\n",
    "        poisson = (np.exp(-lam_prime*T)*(lam_prime*T)**n)/(math.factorial(n))\n",
    "\n",
    "        if callput == 1:\n",
    "            summation = poisson*standard_call(S,K,v,r_n,T)\n",
    "\n",
    "        elif callput == -1:\n",
    "            summation = poisson*standard_put(S,K,v,r_n,T)\n",
    "\n",
    "        value += summation\n",
    "        n += 1\n",
    "\n",
    "    return value\n",
    "\n",
    "stock = float(input('Enter the underlying stock price: '))\n",
    "strike = float(input('Enter the strike price: '))\n",
    "sigma = float(input('Enter the volatility: '))\n",
    "interest = float(input('Enter continuously compounded interest rate: '))\n",
    "maturity = float(input('Enter the time to maturity: '))\n",
    "callput = int(input('Enter 1 for call or -1 for put option: '))\n",
    "k = float(input('Enter the expected proportional change in the asset price when a jump occurs: '))\n",
    "lam = float(input('Enter the intensity of the jump process: '))\n",
    "delta = float(input('Enter the standard deviation of the logarithmic proportional jumps: '))\n",
    "eps = float(input('Enter the threshold at which to truncate the infinite sum: '))\n",
    "result = JumpBlackScholes(stock,strike,sigma,interest,maturity,callput,k,lam,delta,eps)\n",
    "print('The option price is '+str(result))"
   ]
  },
  {
   "cell_type": "markdown",
   "metadata": {
    "pycharm": {
     "name": "#%% md\n"
    }
   },
   "source": [
    "**Task:** Consider a Black/Scholes model augmented by jumps with parameters as in the example above. If market prices of call and put options were given by such a model, what would be the (standard Black/Scholes) implied volatilities for at–the–money (ATM), and for 25% and 10% delta risk reversals and butterflies? What are the strikes of the out-of-the-money options making up the risk reversals and butterflies? Plot the implied volatility smile given by the market in this case."
   ]
  },
  {
   "cell_type": "code",
   "execution_count": 93,
   "metadata": {
    "pycharm": {
     "name": "#%%\n"
    }
   },
   "outputs": [],
   "source": [
    "# Set up 3 equations using the functions defined earlier in order to solve for three unknown values: Strike, Implied Vol, Price\n",
    "\n",
    "from scipy.optimize import fsolve\n",
    "\n",
    "def f_1(x,y,z,S,r,T,callput):\n",
    "    d1 = (np.log(S/y)+(r+0.5*x**2)*(T))/(x*np.sqrt(T))\n",
    "    d2 = d1 - x*np.sqrt(T)\n",
    "\n",
    "    if callput == 1:\n",
    "        return S*norm.cdf(d1)-y*np.exp(-r*(T))*norm.cdf(d2)-z\n",
    "    else:\n",
    "        return y*np.exp(-r*T)*norm.cdf(-d2)-S*norm.cdf(-d1)-z\n",
    "\n",
    "def f_2(x,y,forward_rate,callput,T,delta,r):\n",
    "    return forward_rate*np.exp((-callput*norm.ppf(callput*np.exp(r*T)*delta)*(x)*np.sqrt(T)) + (0.5*(x)**2*T)) - y\n",
    "\n",
    "def f_3(y,z,S, sgm, r, T, callput, k, lam, delta, eps):\n",
    "\n",
    "    n = 0\n",
    "    summation = 1\n",
    "    value = 0\n",
    "\n",
    "    gam = np.log(1+k)\n",
    "    lam_prime = lam*(1+k)\n",
    "\n",
    "    def standard_call(S,y,sgm,r,T):\n",
    "        d1 = (np.log(S/y) + (r+0.5*sgm**2) * T) / (sgm * np.sqrt(T))\n",
    "        d2 = d1 - sgm*np.sqrt(T)\n",
    "        price = S*norm.cdf(d1) - y*np.exp(-r*T)*norm.cdf(d2)\n",
    "        return price\n",
    "\n",
    "    def standard_put(S,y,sgm,r,T):\n",
    "        d1 = (np.log(S/y) + (r+0.5*sgm**2) * T) / (sgm * np.sqrt(T))\n",
    "        d2 = d1 - sgm*np.sqrt(T)\n",
    "        price = y*np.exp(-r*T)*norm.cdf(-d2) - S*norm.cdf(-d1)\n",
    "        return price\n",
    "\n",
    "    while summation >= eps:\n",
    "\n",
    "        r_n = r - lam*k + (n*gam)/T\n",
    "        v = np.sqrt(sgm**2 + (n*delta**2)/T)\n",
    "        poisson = (np.exp(-lam_prime*T)*(lam_prime*T)**n)/(math.factorial(n))\n",
    "\n",
    "        if callput == 1:\n",
    "            summation = poisson*standard_call(S,y,v,r_n,T)\n",
    "\n",
    "        elif callput == -1:\n",
    "            summation = poisson*standard_put(S,y,v,r_n,T)\n",
    "\n",
    "        value += summation\n",
    "        n += 1\n",
    "\n",
    "    return value - z\n"
   ]
  },
  {
   "cell_type": "code",
   "execution_count": 94,
   "metadata": {
    "pycharm": {
     "name": "#%%\n"
    }
   },
   "outputs": [
    {
     "name": "stdout",
     "output_type": "stream",
     "text": [
      "0.22020935284293422\n",
      "85.19702669685662\n",
      "0.8121267500871314\n"
     ]
    }
   ],
   "source": [
    "def hgj(xyz):\n",
    "    x = xyz[0]\n",
    "    y = xyz[1]\n",
    "    z = xyz[2]\n",
    "\n",
    "    h = f_1(x,y,z,100,0.05,0.5,-1)\n",
    "    g = f_2(x,y,f_t,-1,0.5,-0.1,0.05)\n",
    "    j = f_3(y,z,100,0.2,0.05,0.5,-1,0.1,1.0,0.05,1e-7)\n",
    "    return np.array([h,g,j])\n",
    "\n",
    "guess = np.array([0.3,95,1.0])\n",
    "\n",
    "put_10D_impliedvol = fsolve(hgj,guess)[0]\n",
    "put_10D_impliedstrike = fsolve(hgj,guess)[1]\n",
    "put_10D_impliedprice = fsolve(hgj,guess)[2]\n",
    "\n",
    "print(put_10D_impliedvol)\n",
    "print(put_10D_impliedstrike)\n",
    "print(put_10D_impliedprice)"
   ]
  },
  {
   "cell_type": "code",
   "execution_count": 95,
   "metadata": {
    "pycharm": {
     "name": "#%%\n"
    }
   },
   "outputs": [
    {
     "name": "stdout",
     "output_type": "stream",
     "text": [
      "0.22334166413874856\n",
      "93.62012003130152\n",
      "2.642895512064259\n"
     ]
    }
   ],
   "source": [
    "def hgj(xyz):\n",
    "    x = xyz[0]\n",
    "    y = xyz[1]\n",
    "    z = xyz[2]\n",
    "\n",
    "    h = f_1(x,y,z,100,0.05,0.5,-1)\n",
    "    g = f_2(x,y,f_t,-1,0.5,-0.25,0.05)\n",
    "    j = f_3(y,z,100,0.2,0.05,0.5,-1,0.1,1.0,0.05,1e-7)\n",
    "    return np.array([h,g,j])\n",
    "\n",
    "guess = np.array([0.3,95,1.0])\n",
    "\n",
    "put_25D_impliedvol = fsolve(hgj,guess)[0]\n",
    "put_25D_impliedstrike = fsolve(hgj,guess)[1]\n",
    "put_25D_impliedprice = fsolve(hgj,guess)[2]\n",
    "\n",
    "print(put_25D_impliedvol)\n",
    "print(put_25D_impliedstrike)\n",
    "print(put_25D_impliedprice)"
   ]
  },
  {
   "cell_type": "code",
   "execution_count": 97,
   "metadata": {
    "pycharm": {
     "name": "#%%\n"
    }
   },
   "outputs": [
    {
     "name": "stdout",
     "output_type": "stream",
     "text": [
      "0.22735128844102748\n",
      "103.33652229011207\n",
      "6.046737360496618\n"
     ]
    }
   ],
   "source": [
    "def hgj(xyz):\n",
    "    x = xyz[0]\n",
    "    y = xyz[1]\n",
    "    z = xyz[2]\n",
    "\n",
    "    h = f_1(x,y,z,100,0.05,0.5,1)\n",
    "    g = f_2(x,y,f_t,1,0.5,0.5,0.05)\n",
    "    j = f_3(y,z,100,0.2,0.05,0.5,1,0.1,1.0,0.05,1e-7)\n",
    "    return np.array([h,g,j])\n",
    "\n",
    "guess = np.array([0.3,95,1.0])\n",
    "\n",
    "atm_impliedvol = fsolve(hgj,guess)[0]\n",
    "atm_impliedstrike = fsolve(hgj,guess)[1]\n",
    "atm_impliedprice = fsolve(hgj,guess)[2]\n",
    "\n",
    "print(atm_impliedvol)\n",
    "print(atm_impliedstrike)\n",
    "print(atm_impliedprice)"
   ]
  },
  {
   "cell_type": "code",
   "execution_count": 98,
   "metadata": {
    "pycharm": {
     "name": "#%%\n"
    }
   },
   "outputs": [
    {
     "name": "stdout",
     "output_type": "stream",
     "text": [
      "0.23295014028722083\n",
      "115.76706143843349\n",
      "2.342990439894555\n"
     ]
    }
   ],
   "source": [
    "def hgj(xyz):\n",
    "    x = xyz[0]\n",
    "    y = xyz[1]\n",
    "    z = xyz[2]\n",
    "\n",
    "    h = f_1(x,y,z,100,0.05,0.5,1)\n",
    "    g = f_2(x,y,f_t,1,0.5,0.25,0.05)\n",
    "    j = f_3(y,z,100,0.2,0.05,0.5,1,0.1,1.0,0.05,1e-7)\n",
    "    return np.array([h,g,j])\n",
    "\n",
    "guess = np.array([0.3,105,1.5])\n",
    "\n",
    "call_25D_impliedvol = fsolve(hgj,guess)[0]\n",
    "call_25D_impliedstrike = fsolve(hgj,guess)[1]\n",
    "call_25D_impliedprice = fsolve(hgj,guess)[2]\n",
    "\n",
    "print(call_25D_impliedvol)\n",
    "print(call_25D_impliedstrike)\n",
    "print(call_25D_impliedprice)"
   ]
  },
  {
   "cell_type": "code",
   "execution_count": 99,
   "metadata": {
    "pycharm": {
     "name": "#%%\n"
    }
   },
   "outputs": [
    {
     "name": "stdout",
     "output_type": "stream",
     "text": [
      "0.23911312368162527\n",
      "128.86045403238037\n",
      "0.7702659641326292\n"
     ]
    }
   ],
   "source": [
    "def hgj(xyz):\n",
    "    x = xyz[0]\n",
    "    y = xyz[1]\n",
    "    z = xyz[2]\n",
    "\n",
    "    h = f_1(x,y,z,100,0.05,0.5,1)\n",
    "    g = f_2(x,y,f_t,1,0.5,0.1,0.05)\n",
    "    j = f_3(y,z,100,0.2,0.05,0.5,1,0.1,1.0,0.05,1e-7)\n",
    "    return np.array([h,g,j])\n",
    "\n",
    "guess = np.array([0.3,105,1.8])\n",
    "\n",
    "call_10D_impliedvol = fsolve(hgj,guess)[0]\n",
    "call_10D_impliedstrike = fsolve(hgj,guess)[1]\n",
    "call_10D_impliedprice = fsolve(hgj,guess)[2]\n",
    "\n",
    "print(call_10D_impliedvol)\n",
    "print(call_10D_impliedstrike)\n",
    "print(call_10D_impliedprice)"
   ]
  },
  {
   "cell_type": "code",
   "execution_count": 113,
   "metadata": {
    "pycharm": {
     "name": "#%%\n"
    }
   },
   "outputs": [
    {
     "name": "stdout",
     "output_type": "stream",
     "text": [
      "Implied vol of a 10% Delta OTM Risk Reversal: -1.8903770838691047\n",
      "Implied vol of a 25% Delta OTM Risk Reversal: -0.9608476148472267\n",
      "ATM Volatility: 0.22735128844102748\n",
      "Implied vol of a 10% Delta OTM Butterfly: 0.23099498212522662\n",
      "Implied vol of  25% Delta OTM Butterfly: 0.079461377195722 \n"
     ]
    }
   ],
   "source": [
    "def risk_reversal_vol(call_vol, put_vol):\n",
    "    return call_vol - put_vol\n",
    "\n",
    "def butterfly_vol(put_vol, call_vol, atm_vol):\n",
    "    return np.mean([put_vol,call_vol]) - atm_vol\n",
    "\n",
    "rr_10D = risk_reversal_vol(put_10D_impliedvol, call_10D_impliedvol)\n",
    "rr_25D = risk_reversal_vol(put_25D_impliedvol, call_25D_impliedvol)\n",
    "butterfly_10D = butterfly_vol(put_10D_impliedvol,call_10D_impliedvol,atm_impliedvol)\n",
    "butterfly_25D = butterfly_vol(put_25D_impliedvol,call_25D_impliedvol,atm_impliedvol)\n",
    "\n",
    "print(f\"Implied vol of a 10% Delta OTM Risk Reversal: {rr_10D*100}\")\n",
    "print(f\"Implied vol of a 25% Delta OTM Risk Reversal: {rr_25D*100}\")\n",
    "print(f\"ATM Volatility: {atm_impliedvol}\")\n",
    "print(f\"Implied vol of a 10% Delta OTM Butterfly: {butterfly_10D*100}\")\n",
    "print(f\"Implied vol of  25% Delta OTM Butterfly: {butterfly_25D*100} \")"
   ]
  },
  {
   "cell_type": "code",
   "execution_count": 117,
   "metadata": {
    "pycharm": {
     "name": "#%%\n"
    }
   },
   "outputs": [
    {
     "name": "stdout",
     "output_type": "stream",
     "text": [
      "Implied Volatility: 22.02%\n",
      "Strike Price 85.20\n",
      "\n",
      "Implied Volatility: 22.33%\n",
      "Strike Price 93.62\n",
      "\n",
      "Implied Volatility: 22.74%\n",
      "Strike Price 103.34\n",
      "\n",
      "Implied Volatility: 23.30%\n",
      "Strike Price 115.77\n",
      "\n",
      "Implied Volatility: 23.91%\n",
      "Strike Price 128.86\n",
      "\n"
     ]
    },
    {
     "data": {
      "image/png": "[encoded data removed]",
      "text/plain": [
       "<Figure size 432x288 with 1 Axes>"
      ]
     },
     "metadata": {
      "needs_background": "light"
     },
     "output_type": "display_data"
    }
   ],
   "source": [
    "vols = [put_10D_impliedvol, put_25D_impliedvol, atm_impliedvol, call_25D_impliedvol, call_10D_impliedvol]\n",
    "strikes = [put_10D_impliedstrike, put_25D_impliedstrike, atm_impliedstrike, call_25D_impliedstrike, call_10D_impliedstrike]\n",
    "\n",
    "plt.plot(strikes, vols)\n",
    "plt.title(\"Implied Volatilities from Jump-BS Market Prices\")\n",
    "plt.xlabel(\"Strike prices\")\n",
    "plt.ylabel(\"Implied Volatilities\")\n",
    "plt.plot()\n",
    "\n",
    "for i in range(len(vols)):\n",
    "    print(f\"Implied Volatility: {vols[i]*100:.2f}%\")\n",
    "    print(f\"Strike Price {strikes[i]:.2f}\\n\")"
   ]
  }
 ],
 "metadata": {
  "kernelspec": {
   "display_name": "Python 3",
   "language": "python",
   "name": "python3"
  },
  "language_info": {
   "codemirror_mode": {
    "name": "ipython",
    "version": 3
   },
   "file_extension": ".py",
   "mimetype": "text/x-python",
   "name": "python",
   "nbconvert_exporter": "python",
   "pygments_lexer": "ipython3",
   "version": "3.8.8"
  }
 },
 "nbformat": 4,
 "nbformat_minor": 2
}
