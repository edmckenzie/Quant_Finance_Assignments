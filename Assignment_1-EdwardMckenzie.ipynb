{
 "cells": [
  {
   "cell_type": "markdown",
   "metadata": {
    "pycharm": {
     "name": "#%% md\n"
    }
   },
   "source": [
    "# Standard normal CDF\n",
    "Write a program in Python that asks a user for a number `x`, and then outputs the value of the cumulative distribution function of the standard normal distribution at `x`.\n",
    "## Example\n",
    "\n",
    "`Enter x: 0.3\n",
    "The value of the standard normal CDF at 0.3 is 0.6179114221889526`\n",
    "\n",
    "**Hint:** You'll want to use the `input(...)` and `print(...)` functions for this. Recall that `input(...)` returns a string, which must be converted to a floating point number using `float(...)`. If we do `from scipy.stats import norm`, then the cumulative distribution function of the standard normal distribution can be accessed as `norm.cdf(...)`."
   ]
  },
  {
   "cell_type": "code",
   "execution_count": 1,
   "metadata": {
    "pycharm": {
     "name": "#%%\n"
    }
   },
   "outputs": [
    {
     "name": "stdout",
     "output_type": "stream",
     "text": [
      "Enter x: 0.3\n",
      "0.6179114221889526\n"
     ]
    }
   ],
   "source": [
    "# your answer here\n",
    "from scipy.stats import norm\n",
    "x = float(input('Enter x: '))\n",
    "value = norm.cdf(x)\n",
    "print(value)"
   ]
  },
  {
   "cell_type": "markdown",
   "metadata": {
    "pycharm": {
     "name": "#%% md\n"
    }
   },
   "source": [
    "# Black/Scholes formula in Python\n",
    "The Black/Scholes price of a European call option expiring at time $T$ with strike price $K$ is\n",
    "$$\n",
    "C(S,t)=SN(d_1)−Ke^{−r(T−t)}N(d_2)\n",
    "$$\n",
    "where $S$ is the current price of the underlying asset, $t$ the current time and $r$ the continuously compounded riskfree interest rate. $N(d)$ denotes the cumulative distribution function of the standard normal distribution, and\n",
    "$$\n",
    "\\begin{eqnarray}\n",
    "d_1 &=& \\frac{\\ln\\frac{S}K+(r+\\frac12\\sigma^2)(T−t)}{\\sigma\\sqrt{T-t}}\\\\\n",
    "d_2 &=& d_1−\\sigma\\sqrt{T-t}\n",
    "\\end{eqnarray}\n",
    "$$\n",
    "where the $\\sigma$ denotes the volatility of the underlying asset.\n",
    "\n",
    "Using the scaffold provided, write a Python program which prompts the user for the required inputs, and prints the Black/Scholes price of the option.\n",
    "\n",
    "## Example\n",
    "\n",
    "`Enter the underlying stock price: 100\n",
    "Enter the strike price: 100\n",
    "Enter the volatility: 0.3\n",
    "Enter continuously compounded interest rate: 0.02\n",
    "Enter the time to maturity: 2.5\n",
    "The call option price is: 20.82854108910454`"
   ]
  },
  {
   "cell_type": "code",
   "execution_count": 1,
   "metadata": {
    "pycharm": {
     "name": "#%%\n"
    }
   },
   "outputs": [
    {
     "name": "stdout",
     "output_type": "stream",
     "text": [
      "Enter the underlying stock price: 100\n",
      "Enter the strike price: 100\n",
      "Enter the volatility: 0.3\n",
      "Enter continuously compounded interest rate: 0.02\n",
      "Enter the time to maturity: 2.5\n",
      "The call option price is: 20.82854108910454\n"
     ]
    }
   ],
   "source": [
    "import numpy as np\n",
    "from scipy.stats import norm\n",
    "\n",
    "stock = float(input('Enter the underlying stock price: '))\n",
    "strike = float(input('Enter the strike price: '))\n",
    "sigma = float(input('Enter the volatility: '))\n",
    "interest = float(input('Enter continuously compounded interest rate: '))\n",
    "maturity = float(input('Enter the time to maturity: '))\n",
    "\n",
    "# To do: calculate the BlackScholes price here\n",
    "\n",
    "d1 = (np.log(stock/strike)+(interest+0.5*sigma**2)*(maturity))/(sigma*np.sqrt(maturity))\n",
    "d2 = d1 - sigma*np.sqrt(maturity)\n",
    "BlackScholes = stock*norm.cdf(d1) - strike*np.exp(-interest*maturity)*norm.cdf(d2)\n",
    "\n",
    "print('The call option price is: ' + str(BlackScholes))"
   ]
  },
  {
   "cell_type": "markdown",
   "metadata": {
    "pycharm": {
     "name": "#%% md\n"
    }
   },
   "source": [
    "# Black Scholes formula as a Python function\n",
    "As in the previous task, consider the Black/Scholes price of a European call option expiring at time $T$ with strike price $K$. Similarly, the price of a European put option expiring at time $T$ with strike price $K$ is\n",
    "$$\n",
    "P(S,t)=Ke^{−r(T−t)}N(−d_2)−SN(−d_1)\n",
    "$$\n",
    "Using the scaffold provided, write a Python function which calculates the Black/Scholes price of the option, where the function takes six arguments (in this order): $S$, $K$, $\\sigma$, $r$, $T$ and a 1 for a call or -1 for a put.\n",
    "\n",
    "## Example:\n",
    "\n",
    "`Enter the underlying stock price: 100\n",
    "Enter the strike price: 100\n",
    "Enter the volatility: 0.3\n",
    "Enter continuously compounded interest rate: 0.05\n",
    "Enter the time to maturity: 2\n",
    "Enter 1 for call or -1 for put option: 1\n",
    "The option price is: 21.193735255280203`\n",
    "\n",
    "## Another example (a put option):\n",
    "\n",
    "`Enter the underlying stock price: 100\n",
    "Enter the strike price: 100\n",
    "Enter the volatility: 0.3\n",
    "Enter continuously compounded interest rate: 0.05\n",
    "Enter the time to maturity: 2\n",
    "Enter 1 for call or -1 for put option: -1\n",
    "The option price is: 11.677477058876157`"
   ]
  },
  {
   "cell_type": "code",
   "execution_count": 2,
   "metadata": {
    "pycharm": {
     "name": "#%%\n"
    }
   },
   "outputs": [
    {
     "name": "stdout",
     "output_type": "stream",
     "text": [
      "Enter the underlying stock price: 100\n",
      "Enter the strike price: 100\n",
      "Enter the volatility: 0.3\n",
      "Enter continuously compounded interest rate: 0.05\n",
      "Enter the time to maturity: 2\n",
      "Enter 1 for call or -1 for put option: -1\n",
      "The option price is: \n",
      "11.677477058876157\n"
     ]
    }
   ],
   "source": [
    "def BlackScholes(S,K,sgm,r,T,callput):\n",
    "    d1 = (np.log(S/K)+(r+0.5*sgm**2)*(T))/(sgm*np.sqrt(T))\n",
    "    d2 = d1 - sgm*np.sqrt(T)    \n",
    "    \n",
    "    if callput == 1:\n",
    "        price = S*norm.cdf(d1) - K*np.exp(-r*T)*norm.cdf(d2)\n",
    "        return price\n",
    "    elif callput == -1:\n",
    "        price = K*np.exp(-r*T)*norm.cdf(-d2) - S*norm.cdf(-d1)\n",
    "        return price\n",
    "    else:\n",
    "        print(\"Have to enter 1 or -1\")\n",
    "    \n",
    "stock = float(input('Enter the underlying stock price: '))\n",
    "strike = float(input('Enter the strike price: '))\n",
    "sigma = float(input('Enter the volatility: '))\n",
    "interest = float(input('Enter continuously compounded interest rate: '))\n",
    "maturity = float(input('Enter the time to maturity: '))\n",
    "callput = int(input('Enter 1 for call or -1 for put option: '))\n",
    "print('The option price is: ')\n",
    "print(BlackScholes(stock,strike,sigma,interest,maturity,callput))"
   ]
  },
  {
   "cell_type": "markdown",
   "metadata": {
    "pycharm": {
     "name": "#%% md\n"
    }
   },
   "source": [
    "# Implied volatility\n",
    "To calculate the price of a European option, we need to know whether it is a call or a put, the strike $K$, and its time to expiry - these are properties specified in the option contract. Furthermore, we need to know the current price of the underlying asset $(S)$ and the interest rate $r$ - these are things which can arguably be observed in the market. Lastly, we need the volatility $\\sigma$ - this is not directly observable in the market. Although it can be statistically estimated, when prices for actively traded options are available in the market, the preferred method to obtain sigma is to **imply** it from those market prices. This is the <B><I>implied volatility</I></B>, i.e. the $\\sigma$ which needs to be inserted into the Black/Scholes formula so that, in combination with the observed values for the other input variables, it returns the observed market price of the option.\n",
    "\n",
    "Implied volatility cannot be obtained by algebraically solving the Black/Scholes formula for volatility - this is not analytically possible. Therefore, Black/Scholes implied volatility must be obtained numerically using a *root search.* The SciPy package provides a root search routine for Python, which for a user-defined function finds the function argument which results in a zero function value. For example, consider the function\n",
    "$$\n",
    "f(x)=ax+b\n",
    "$$\n",
    "We define this as a Python function and determine its root (for a specific choice of $a$ and $b$) by calling the SciPy function `root_scalar`:"
   ]
  },
  {
   "cell_type": "code",
   "execution_count": 4,
   "metadata": {
    "pycharm": {
     "name": "#%%\n"
    }
   },
   "outputs": [
    {
     "name": "stdout",
     "output_type": "stream",
     "text": [
      "2.5\n"
     ]
    }
   ],
   "source": [
    "from scipy import optimize\n",
    "def f(x,a,b):\n",
    "    return a*x+b\n",
    "sol = optimize.root_scalar(f, bracket=[-1000,1000], args=(2,-5))\n",
    "print(sol.root)"
   ]
  },
  {
   "cell_type": "markdown",
   "metadata": {
    "pycharm": {
     "name": "#%% md\n"
    }
   },
   "source": [
    "Note that as well as $f$, two named arguments are passed to `root_scalar`: `bracket` specifies a lower and upper bound in the search for the root, and `args` specifies the other arguments ($a$ and $b$) of $f$. Feel free to run and play with the above code (for example by modifying `args`, or even the function $f$).\n",
    "\n",
    "## Task\n",
    "Using the scaffold provided, write a Python function which calculates the Black/Scholes implied volatility of an option, where the function takes six arguments (in this order): $S$, $K$, $r$, $T$, a 1 for a call or -1 for a put, and the option price. Note that you will need to define additional functions in order to conduct the root search.\n",
    "\n",
    "### Example output\n",
    "\n",
    "`Enter the underlying stock price: 100 \n",
    "Enter the strike price: 100 \n",
    "Enter continuously compounded interest rate: 0.05 \n",
    "Enter the time to maturity: 2 \n",
    "Enter 1 for call or -1 for put option: 1 \n",
    "Enter the option price: 22.7251160722058 \n",
    "The implied volatility is: 0.3300000000000001`"
   ]
  },
  {
   "cell_type": "code",
   "execution_count": 3,
   "metadata": {
    "pycharm": {
     "name": "#%%\n"
    }
   },
   "outputs": [
    {
     "name": "stdout",
     "output_type": "stream",
     "text": [
      "Enter the underlying stock price: 100\n",
      "Enter the strike price: 100\n",
      "Enter continuously compounded interest rate: 0.05\n",
      "Enter the time to maturity: 2\n",
      "Enter 1 for call or -1 for put option: 1\n",
      "Enter the option price: 22.7251160722058\n",
      "The implied volatility is: \n",
      "      converged: True\n",
      "           flag: 'converged'\n",
      " function_calls: 21\n",
      "     iterations: 20\n",
      "           root: 0.33000000000000007\n"
     ]
    }
   ],
   "source": [
    "from scipy import optimize\n",
    "def BlackScholesImpVol(S,K,r,T,callput,price):\n",
    "    \n",
    "    def d(x,S,K,r,T):\n",
    "        d1 = (np.log(S/K)+(r+0.5*x**2)*(T))/(x*np.sqrt(T))\n",
    "        d2 = d1 - x*np.sqrt(T)\n",
    "        return d1, d2\n",
    "    \n",
    "    def f(x,S,K,r,T,p,callput):\n",
    "        d1, d2 = d(x,S,K,r,T)\n",
    "        \n",
    "        if callput == 1:\n",
    "            return S*norm.cdf(d1)-K*np.exp(-r*(T))*norm.cdf(d2)-p\n",
    "        else:\n",
    "            return K*np.exp(-r*T)*norm.cdf(-d2)-S*norm.cdf(-d1)-p\n",
    "    \n",
    "    sol = optimize.root_scalar(f, bracket=[-10000.000000, 10000.000000],\n",
    "                           args=(stock, strike, interest, maturity, price, callput))\n",
    "    return sol\n",
    "\n",
    "stock = float(input('Enter the underlying stock price: '))\n",
    "strike = float(input('Enter the strike price: '))\n",
    "interest = float(input('Enter continuously compounded interest rate: '))\n",
    "maturity = float(input('Enter the time to maturity: '))\n",
    "callput = int(input('Enter 1 for call or -1 for put option: '))\n",
    "price = float(input('Enter the option price: '))\n",
    "print('The implied volatility is: ')\n",
    "print(BlackScholesImpVol(stock,strike,interest,maturity,callput,price))"
   ]
  },
  {
   "cell_type": "markdown",
   "metadata": {
    "pycharm": {
     "name": "#%% md\n"
    }
   },
   "source": [
    "# Binomial option pricing model - European call option\n",
    "In the binomial option pricing model introduced in the first lecture, the price of a European call option is given by\n",
    "$$\n",
    "C=\\frac1{R^n}\\sum_{i=a}^n\\left(\\begin{array}{c}n\\\\ i\\end{array}\\right)p^i(1−p)^{n−i}(u^id^{n−i}S−K)\n",
    "$$\n",
    "where $S$ is the initial stock price, $K$ is the strike price, $u$ is the \"up\" factor, $d$ is the \"down\" factor, $R$ is the accummulation factor, $p$ is the risk-neutral probability of an \"up\" move, $n$ is the number of time steps until expiry of the option, and $a$ is the minimum number of \"up\" moves such that\n",
    "$$\n",
    "u^ad^{n−a}S>K\n",
    "$$\n",
    "Note that the binomial probability,\n",
    "$$\n",
    "\\left(\\begin{array}{c}n\\\\ i\\end{array}\\right)p^i(1−p)^{n−i}\n",
    "$$\n",
    "can be calculated in Python using the function `binom.pmf(i,n,p)` from the SciPy Stats package, as follows:"
   ]
  },
  {
   "cell_type": "code",
   "execution_count": null,
   "metadata": {
    "pycharm": {
     "name": "#%%\n"
    }
   },
   "outputs": [],
   "source": [
    "from scipy.stats import binom\n",
    "n = 10\n",
    "i = 3\n",
    "p = 0.5\n",
    "print(binom.pmf(i,n,p))"
   ]
  },
  {
   "cell_type": "markdown",
   "metadata": {
    "pycharm": {
     "name": "#%% md\n"
    }
   },
   "source": [
    "Using the scaffold provided, write a Python function `BinomialCall()` which calculates the price of a European call option in the binomial model, where the function takes six arguments (in this order): $S$, $K$, $u$, $d$, $R$, $n$.\n",
    "\n",
    "## Example:\n",
    "This example corresponds to the one given on Slides 35 and 36 of Lecture 1b:\n",
    "\n",
    "`Enter the underlying stock price: 100 \n",
    "Enter the strike price: 90 \n",
    "Enter the up factor: 1.2 \n",
    "Enter the down factor: 0.8 \n",
    "Enter the accumulation factor: 1.1 \n",
    "Enter the number of time steps: 2 \n",
    "The option price is: 26.96280991735539`"
   ]
  },
  {
   "cell_type": "code",
   "execution_count": null,
   "metadata": {
    "pycharm": {
     "name": "#%%\n"
    }
   },
   "outputs": [
    {
     "name": "stdout",
     "output_type": "stream",
     "text": [
      "Enter the underlying stock price: 100\n",
      "Enter the strike price: 90\n",
      "Enter the up factor: 1.2\n",
      "Enter the down factor: 0.8\n",
      "Enter the accumulation factor: 1.1\n",
      "Enter the number of time steps: 2\n",
      "The option price is: \n",
      "26.962809917355393\n"
     ]
    }
   ],
   "source": [
    "from scipy.stats import binom\n",
    "def BinomialCall(S, K, u, d, Acc, N):                                                        \n",
    "    \n",
    "    R = Acc    \n",
    "    p = (R - d)/ (u - d)  \n",
    "    disc = 1/R**N\n",
    "    \n",
    "    f_value = 0\n",
    "    \n",
    "    for i in range(1, N+1):\n",
    "        prob = binom.pmf(i,N,p)\n",
    "        f_value += prob * ((u**i) * (d**(N-i)) * S - K)\n",
    "        d_value = disc*f_value\n",
    "    return d_value\n",
    "    \n",
    "stock = float(input('Enter the underlying stock price: '))\n",
    "strike = float(input('Enter the strike price: '))\n",
    "u = float(input('Enter the up factor: '))\n",
    "d = float(input('Enter the down factor: '))\n",
    "R = float(input('Enter the accumulation factor: '))\n",
    "N = int(input('Enter the number of time steps: '))\n",
    "print('The option price is: ')\n",
    "print(BinomialCall(stock,strike,u,d,R,N))\n",
    "\n",
    "    \n",
    "stock = float(input('Enter the underlying stock price: '))\n",
    "strike = float(input('Enter the strike price: '))\n",
    "u = float(input('Enter the up factor: '))\n",
    "d = float(input('Enter the down factor: '))\n",
    "R = float(input('Enter the accumulation factor: '))\n",
    "N = int(input('Enter the number of time steps: '))\n",
    "print('The option price is: ')\n",
    "print(BinomialCall(stock,strike,u,d,R,N))"
   ]
  },
  {
   "cell_type": "markdown",
   "metadata": {
    "pycharm": {
     "name": "#%% md\n"
    }
   },
   "source": [
    "# Binomial option pricing model - American put option\n",
    "Using the scaffold provided, write a Python function `BinomialAmericanPut()` which calculates the price of an American put option in the binomial model, where the function takes six arguments (in this order): $S$, $K$, $u$, $d$, $R$, $n$. These parameters have the same meaning as in the previous task. Note that unlike in the previous task, there is no direct pricing formula for the American put - the price must be calculated by iterating step by step backwards through the binomial lattice, as illustrated in the spreadsheet `Binomial.xlsx` created in the lecture (and available on the Canvas site).\n",
    "\n",
    "## Example:\n",
    "This example corresponds to the one given on Slides 42 of Lecture 1:\n",
    "\n",
    "`Enter the underlying stock price: 120\n",
    "Enter the strike price: 95\n",
    "Enter the up factor: 1.2\n",
    "Enter the down factor: 0.8\n",
    "Enter the accumulation factor: 1.1\n",
    "Enter the number of time steps: 3\n",
    "The option price is: 1.1401202103681396`"
   ]
  },
  {
   "cell_type": "code",
   "execution_count": 1,
   "metadata": {
    "pycharm": {
     "name": "#%%\n"
    }
   },
   "outputs": [
    {
     "name": "stdout",
     "output_type": "stream",
     "text": [
      "Enter the underlying stock price: 120\n",
      "Enter the strike price: 95\n",
      "Enter the up factor: 1.2\n",
      "Enter the down factor: 0.8\n",
      "Enter the accumulation factor: 1.1\n",
      "Enter the number of time steps: 3\n",
      "The option price is: \n",
      "1.1401202103681387\n"
     ]
    }
   ],
   "source": [
    "import numpy as np\n",
    "def BinomialAmericanPut(S, K, u, d, Acc, N):\n",
    "    \n",
    "    R = Acc    \n",
    "    p = (R - d)/ (u - d)  \n",
    "    q = 1.0 - p   \n",
    "    disc = 1/(Acc**N)\n",
    "    \n",
    "    S_T = np.array( [(S * u**j * d**(N - j)) for j in range(N + 1)] ) \n",
    "    \n",
    "    V = np.zeros(N+1)\n",
    "    for j in range(0, N+1):\n",
    "        V[j] = max(0, K - S_T[j]) \n",
    "    \n",
    "    for i in np.arange(N-1,-1,-1):\n",
    "        for j in range(0,i+1):\n",
    "            V[j] = 1/(Acc) * ( p*V[j+1] + q*V[j] )\n",
    "            S_T = S * u**j * d**(i-j)\n",
    "            V[j] = max(V[j], K - S_T)\n",
    "            \n",
    "    return V[0]\n",
    "\n",
    "stock = float(input('Enter the underlying stock price: '))\n",
    "strike = float(input('Enter the strike price: '))\n",
    "u = float(input('Enter the up factor: '))\n",
    "d = float(input('Enter the down factor: '))\n",
    "R = float(input('Enter the accumulation factor: '))\n",
    "N = int(input('Enter the number of time steps: '))\n",
    "print('The option price is: ')\n",
    "print(BinomialAmericanPut(stock,strike,u,d,R,N))"
   ]
  },
  {
   "cell_type": "code",
   "execution_count": null,
   "metadata": {
    "pycharm": {
     "name": "#%%\n"
    }
   },
   "outputs": [],
   "source": []
  }
 ],
 "metadata": {
  "kernelspec": {
   "display_name": "Python 3",
   "language": "python",
   "name": "python3"
  },
  "language_info": {
   "codemirror_mode": {
    "name": "ipython",
    "version": 3
   },
   "file_extension": ".py",
   "mimetype": "text/x-python",
   "name": "python",
   "nbconvert_exporter": "python",
   "pygments_lexer": "ipython3",
   "version": "3.8.8"
  }
 },
 "nbformat": 4,
 "nbformat_minor": 2
}
