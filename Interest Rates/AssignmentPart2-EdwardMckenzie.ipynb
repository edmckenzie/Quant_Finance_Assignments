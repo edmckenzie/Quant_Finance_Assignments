{
 "cells": [
  {
   "cell_type": "markdown",
   "metadata": {
    "pycharm": {
     "name": "#%% md\n"
    }
   },
   "source": [
    "<h1 style=\"font-family:Impact,Arial;font-size:30px;\">37004 Interest Rates and Credit Risk Models - Spring 2022</h1>\n",
    "<h1 style=\"font-family:Impact,Arial;font-size:45px;\">Assignment Part 2</h1>\n",
    "<h2 style=\"font-family:Arial;\">Erik Schl&ouml;gl</h2>\n",
    "<p><small> School of Mathematical &amp; Physical Sciences<br>\n",
    "University of Technology Sydney\n",
    "</small></p>\n",
    "<p>\n",
    "<a href=\"mailto:Erik.Schlogl@uts.edu.au?Subject=37000 JIT\" target=\"_blank\">\n",
    "<small><font color=MediumVioletRed>Erik.Schlogl@uts.edu.au</font></small></a>\n",
    "</p>\n",
    "<hr style=\"height:5px;border:none;color:#333;background-color:#333;\" />"
   ]
  },
  {
   "cell_type": "markdown",
   "metadata": {
    "pycharm": {
     "name": "#%% md\n"
    }
   },
   "source": [
    "Consider the data files <code>daily-treasury-rates2018.csv</code>, <code>daily-treasury-rates2019.csv</code>, <code>daily-treasury-rates2020.csv</code>, <code>daily-treasury-rates2021.csv</code> and <code>daily-treasury-rates2022.csv</code>. They contain the United States Treasury's \"Daily Yield Curve\" data (sourced from www.treasury.gov) for the years 2018 to 2022. These rates are what the US Treasury calls \"CMT rates\" (see\n",
    "https://www.treasury.gov/resource-center/faqs/Interest-Rates/Pages/faq.aspx)."
   ]
  },
  {
   "cell_type": "markdown",
   "metadata": {
    "pycharm": {
     "name": "#%% md\n"
    }
   },
   "source": [
    "<H2>Task 1:</H2>\n",
    "Convert these rates into continuously compounded yields. <I>(1 mark)</I>"
   ]
  },
  {
   "cell_type": "code",
   "execution_count": 96,
   "metadata": {
    "pycharm": {
     "name": "#%%\n"
    }
   },
   "outputs": [
    {
     "data": {
      "text/plain": "              1 Mo    2 Mo    3 Mo    6 Mo    1 Yr    2 Yr    3 Yr    5 Yr  \\\nDate                                                                         \n2022-09-02  0.0249  0.0279  0.0294  0.0333  0.0347  0.0340  0.0344  0.0330   \n2022-09-01  0.0253  0.0280  0.0297  0.0334  0.0351  0.0351  0.0354  0.0339   \n2022-08-31  0.0240  0.0272  0.0296  0.0332  0.0350  0.0345  0.0346  0.0330   \n2022-08-30  0.0243  0.0273  0.0297  0.0331  0.0348  0.0346  0.0347  0.0327   \n2022-08-29  0.0245  0.0275  0.0297  0.0332  0.0343  0.0342  0.0345  0.0327   \n...            ...     ...     ...     ...     ...     ...     ...     ...   \n2018-01-08  0.0130  0.0000  0.0145  0.0160  0.0179  0.0196  0.0207  0.0229   \n2018-01-05  0.0127  0.0000  0.0139  0.0158  0.0180  0.0196  0.0206  0.0229   \n2018-01-04  0.0128  0.0000  0.0141  0.0160  0.0182  0.0196  0.0205  0.0227   \n2018-01-03  0.0129  0.0000  0.0141  0.0159  0.0181  0.0194  0.0202  0.0225   \n2018-01-02  0.0129  0.0000  0.0144  0.0161  0.0183  0.0192  0.0201  0.0225   \n\n              7 Yr   10 Yr   20 Yr   30 Yr  \nDate                                        \n2022-09-02  0.0329  0.0320  0.0361  0.0335  \n2022-09-01  0.0336  0.0326  0.0364  0.0337  \n2022-08-31  0.0325  0.0315  0.0353  0.0327  \n2022-08-30  0.0322  0.0311  0.0349  0.0323  \n2022-08-29  0.0321  0.0312  0.0350  0.0325  \n...            ...     ...     ...     ...  \n2018-01-08  0.0241  0.0249  0.0265  0.0281  \n2018-01-05  0.0240  0.0247  0.0264  0.0281  \n2018-01-04  0.0238  0.0246  0.0262  0.0279  \n2018-01-03  0.0237  0.0244  0.0262  0.0278  \n2018-01-02  0.0238  0.0246  0.0264  0.0281  \n\n[1170 rows x 12 columns]",
      "text/html": "<div>\n<style scoped>\n    .dataframe tbody tr th:only-of-type {\n        vertical-align: middle;\n    }\n\n    .dataframe tbody tr th {\n        vertical-align: top;\n    }\n\n    .dataframe thead th {\n        text-align: right;\n    }\n</style>\n<table border=\"1\" class=\"dataframe\">\n  <thead>\n    <tr style=\"text-align: right;\">\n      <th></th>\n      <th>1 Mo</th>\n      <th>2 Mo</th>\n      <th>3 Mo</th>\n      <th>6 Mo</th>\n      <th>1 Yr</th>\n      <th>2 Yr</th>\n      <th>3 Yr</th>\n      <th>5 Yr</th>\n      <th>7 Yr</th>\n      <th>10 Yr</th>\n      <th>20 Yr</th>\n      <th>30 Yr</th>\n    </tr>\n    <tr>\n      <th>Date</th>\n      <th></th>\n      <th></th>\n      <th></th>\n      <th></th>\n      <th></th>\n      <th></th>\n      <th></th>\n      <th></th>\n      <th></th>\n      <th></th>\n      <th></th>\n      <th></th>\n    </tr>\n  </thead>\n  <tbody>\n    <tr>\n      <th>2022-09-02</th>\n      <td>0.0249</td>\n      <td>0.0279</td>\n      <td>0.0294</td>\n      <td>0.0333</td>\n      <td>0.0347</td>\n      <td>0.0340</td>\n      <td>0.0344</td>\n      <td>0.0330</td>\n      <td>0.0329</td>\n      <td>0.0320</td>\n      <td>0.0361</td>\n      <td>0.0335</td>\n    </tr>\n    <tr>\n      <th>2022-09-01</th>\n      <td>0.0253</td>\n      <td>0.0280</td>\n      <td>0.0297</td>\n      <td>0.0334</td>\n      <td>0.0351</td>\n      <td>0.0351</td>\n      <td>0.0354</td>\n      <td>0.0339</td>\n      <td>0.0336</td>\n      <td>0.0326</td>\n      <td>0.0364</td>\n      <td>0.0337</td>\n    </tr>\n    <tr>\n      <th>2022-08-31</th>\n      <td>0.0240</td>\n      <td>0.0272</td>\n      <td>0.0296</td>\n      <td>0.0332</td>\n      <td>0.0350</td>\n      <td>0.0345</td>\n      <td>0.0346</td>\n      <td>0.0330</td>\n      <td>0.0325</td>\n      <td>0.0315</td>\n      <td>0.0353</td>\n      <td>0.0327</td>\n    </tr>\n    <tr>\n      <th>2022-08-30</th>\n      <td>0.0243</td>\n      <td>0.0273</td>\n      <td>0.0297</td>\n      <td>0.0331</td>\n      <td>0.0348</td>\n      <td>0.0346</td>\n      <td>0.0347</td>\n      <td>0.0327</td>\n      <td>0.0322</td>\n      <td>0.0311</td>\n      <td>0.0349</td>\n      <td>0.0323</td>\n    </tr>\n    <tr>\n      <th>2022-08-29</th>\n      <td>0.0245</td>\n      <td>0.0275</td>\n      <td>0.0297</td>\n      <td>0.0332</td>\n      <td>0.0343</td>\n      <td>0.0342</td>\n      <td>0.0345</td>\n      <td>0.0327</td>\n      <td>0.0321</td>\n      <td>0.0312</td>\n      <td>0.0350</td>\n      <td>0.0325</td>\n    </tr>\n    <tr>\n      <th>...</th>\n      <td>...</td>\n      <td>...</td>\n      <td>...</td>\n      <td>...</td>\n      <td>...</td>\n      <td>...</td>\n      <td>...</td>\n      <td>...</td>\n      <td>...</td>\n      <td>...</td>\n      <td>...</td>\n      <td>...</td>\n    </tr>\n    <tr>\n      <th>2018-01-08</th>\n      <td>0.0130</td>\n      <td>0.0000</td>\n      <td>0.0145</td>\n      <td>0.0160</td>\n      <td>0.0179</td>\n      <td>0.0196</td>\n      <td>0.0207</td>\n      <td>0.0229</td>\n      <td>0.0241</td>\n      <td>0.0249</td>\n      <td>0.0265</td>\n      <td>0.0281</td>\n    </tr>\n    <tr>\n      <th>2018-01-05</th>\n      <td>0.0127</td>\n      <td>0.0000</td>\n      <td>0.0139</td>\n      <td>0.0158</td>\n      <td>0.0180</td>\n      <td>0.0196</td>\n      <td>0.0206</td>\n      <td>0.0229</td>\n      <td>0.0240</td>\n      <td>0.0247</td>\n      <td>0.0264</td>\n      <td>0.0281</td>\n    </tr>\n    <tr>\n      <th>2018-01-04</th>\n      <td>0.0128</td>\n      <td>0.0000</td>\n      <td>0.0141</td>\n      <td>0.0160</td>\n      <td>0.0182</td>\n      <td>0.0196</td>\n      <td>0.0205</td>\n      <td>0.0227</td>\n      <td>0.0238</td>\n      <td>0.0246</td>\n      <td>0.0262</td>\n      <td>0.0279</td>\n    </tr>\n    <tr>\n      <th>2018-01-03</th>\n      <td>0.0129</td>\n      <td>0.0000</td>\n      <td>0.0141</td>\n      <td>0.0159</td>\n      <td>0.0181</td>\n      <td>0.0194</td>\n      <td>0.0202</td>\n      <td>0.0225</td>\n      <td>0.0237</td>\n      <td>0.0244</td>\n      <td>0.0262</td>\n      <td>0.0278</td>\n    </tr>\n    <tr>\n      <th>2018-01-02</th>\n      <td>0.0129</td>\n      <td>0.0000</td>\n      <td>0.0144</td>\n      <td>0.0161</td>\n      <td>0.0183</td>\n      <td>0.0192</td>\n      <td>0.0201</td>\n      <td>0.0225</td>\n      <td>0.0238</td>\n      <td>0.0246</td>\n      <td>0.0264</td>\n      <td>0.0281</td>\n    </tr>\n  </tbody>\n</table>\n<p>1170 rows × 12 columns</p>\n</div>"
     },
     "execution_count": 96,
     "metadata": {},
     "output_type": "execute_result"
    }
   ],
   "source": [
    "# your code here\n",
    "import pandas as pd\n",
    "import numpy as np\n",
    "import matplotlib.pyplot as plt\n",
    "import scipy.optimize as spo\n",
    "\n",
    "rates_2018 = pd.read_csv('daily-treasury-rates2018.csv', parse_dates=['Date'], index_col=['Date'])\n",
    "rates_2019 = pd.read_csv('daily-treasury-rates2019.csv', parse_dates=['Date'], index_col=['Date'])\n",
    "rates_2020 = pd.read_csv('daily-treasury-rates2020.csv', parse_dates=['Date'], index_col=['Date'])\n",
    "rates_2021 = pd.read_csv('daily-treasury-rates2021.csv', parse_dates=['Date'], index_col=['Date'])\n",
    "rates_2022 = pd.read_csv('daily-treasury-rates2022.csv', parse_dates=['Date'], index_col=['Date'])\n",
    "\n",
    "frames = [rates_2022, rates_2021, rates_2020, rates_2019, rates_2018]\n",
    "big_frame = pd.concat(frames).fillna(0)*0.01\n",
    "big_frame"
   ]
  },
  {
   "cell_type": "code",
   "execution_count": 97,
   "outputs": [
    {
     "data": {
      "text/plain": "                1 Mo      2 Mo      3 Mo      6 Mo      1 Yr      2 Yr  \\\nDate                                                                     \n2022-09-02  0.024746  0.027707  0.029186  0.033026  0.034402  0.033714   \n2022-09-01  0.025141  0.027806  0.029482  0.033124  0.034796  0.034796   \n2022-08-31  0.023857  0.027017  0.029383  0.032927  0.034697  0.034206   \n2022-08-30  0.024154  0.027115  0.029482  0.032829  0.034501  0.034304   \n2022-08-29  0.024351  0.027313  0.029482  0.032927  0.034009  0.033911   \n...              ...       ...       ...       ...       ...       ...   \n2018-01-08  0.012958  0.000000  0.014448  0.015936  0.017820  0.019505   \n2018-01-05  0.012660  0.000000  0.013852  0.015738  0.017919  0.019505   \n2018-01-04  0.012759  0.000000  0.014051  0.015936  0.018118  0.019505   \n2018-01-03  0.012859  0.000000  0.014051  0.015837  0.018019  0.019307   \n2018-01-02  0.012859  0.000000  0.014348  0.016036  0.018217  0.019108   \n\n                3 Yr      5 Yr      7 Yr     10 Yr     20 Yr     30 Yr  \nDate                                                                    \n2022-09-02  0.034108  0.032731  0.032632  0.031747  0.035778  0.033223  \n2022-09-01  0.035090  0.033616  0.033321  0.032337  0.036073  0.033419  \n2022-08-31  0.034304  0.032731  0.032239  0.031255  0.034992  0.032436  \n2022-08-30  0.034402  0.032436  0.031944  0.030861  0.034599  0.032042  \n2022-08-29  0.034206  0.032436  0.031845  0.030959  0.034697  0.032239  \n...              ...       ...       ...       ...       ...       ...  \n2018-01-08  0.020594  0.022770  0.023956  0.024746  0.026326  0.027904  \n2018-01-05  0.020495  0.022770  0.023857  0.024549  0.026227  0.027904  \n2018-01-04  0.020396  0.022572  0.023660  0.024450  0.026030  0.027707  \n2018-01-03  0.020099  0.022374  0.023561  0.024252  0.026030  0.027609  \n2018-01-02  0.020000  0.022374  0.023660  0.024450  0.026227  0.027904  \n\n[1170 rows x 12 columns]",
      "text/html": "<div>\n<style scoped>\n    .dataframe tbody tr th:only-of-type {\n        vertical-align: middle;\n    }\n\n    .dataframe tbody tr th {\n        vertical-align: top;\n    }\n\n    .dataframe thead th {\n        text-align: right;\n    }\n</style>\n<table border=\"1\" class=\"dataframe\">\n  <thead>\n    <tr style=\"text-align: right;\">\n      <th></th>\n      <th>1 Mo</th>\n      <th>2 Mo</th>\n      <th>3 Mo</th>\n      <th>6 Mo</th>\n      <th>1 Yr</th>\n      <th>2 Yr</th>\n      <th>3 Yr</th>\n      <th>5 Yr</th>\n      <th>7 Yr</th>\n      <th>10 Yr</th>\n      <th>20 Yr</th>\n      <th>30 Yr</th>\n    </tr>\n    <tr>\n      <th>Date</th>\n      <th></th>\n      <th></th>\n      <th></th>\n      <th></th>\n      <th></th>\n      <th></th>\n      <th></th>\n      <th></th>\n      <th></th>\n      <th></th>\n      <th></th>\n      <th></th>\n    </tr>\n  </thead>\n  <tbody>\n    <tr>\n      <th>2022-09-02</th>\n      <td>0.024746</td>\n      <td>0.027707</td>\n      <td>0.029186</td>\n      <td>0.033026</td>\n      <td>0.034402</td>\n      <td>0.033714</td>\n      <td>0.034108</td>\n      <td>0.032731</td>\n      <td>0.032632</td>\n      <td>0.031747</td>\n      <td>0.035778</td>\n      <td>0.033223</td>\n    </tr>\n    <tr>\n      <th>2022-09-01</th>\n      <td>0.025141</td>\n      <td>0.027806</td>\n      <td>0.029482</td>\n      <td>0.033124</td>\n      <td>0.034796</td>\n      <td>0.034796</td>\n      <td>0.035090</td>\n      <td>0.033616</td>\n      <td>0.033321</td>\n      <td>0.032337</td>\n      <td>0.036073</td>\n      <td>0.033419</td>\n    </tr>\n    <tr>\n      <th>2022-08-31</th>\n      <td>0.023857</td>\n      <td>0.027017</td>\n      <td>0.029383</td>\n      <td>0.032927</td>\n      <td>0.034697</td>\n      <td>0.034206</td>\n      <td>0.034304</td>\n      <td>0.032731</td>\n      <td>0.032239</td>\n      <td>0.031255</td>\n      <td>0.034992</td>\n      <td>0.032436</td>\n    </tr>\n    <tr>\n      <th>2022-08-30</th>\n      <td>0.024154</td>\n      <td>0.027115</td>\n      <td>0.029482</td>\n      <td>0.032829</td>\n      <td>0.034501</td>\n      <td>0.034304</td>\n      <td>0.034402</td>\n      <td>0.032436</td>\n      <td>0.031944</td>\n      <td>0.030861</td>\n      <td>0.034599</td>\n      <td>0.032042</td>\n    </tr>\n    <tr>\n      <th>2022-08-29</th>\n      <td>0.024351</td>\n      <td>0.027313</td>\n      <td>0.029482</td>\n      <td>0.032927</td>\n      <td>0.034009</td>\n      <td>0.033911</td>\n      <td>0.034206</td>\n      <td>0.032436</td>\n      <td>0.031845</td>\n      <td>0.030959</td>\n      <td>0.034697</td>\n      <td>0.032239</td>\n    </tr>\n    <tr>\n      <th>...</th>\n      <td>...</td>\n      <td>...</td>\n      <td>...</td>\n      <td>...</td>\n      <td>...</td>\n      <td>...</td>\n      <td>...</td>\n      <td>...</td>\n      <td>...</td>\n      <td>...</td>\n      <td>...</td>\n      <td>...</td>\n    </tr>\n    <tr>\n      <th>2018-01-08</th>\n      <td>0.012958</td>\n      <td>0.000000</td>\n      <td>0.014448</td>\n      <td>0.015936</td>\n      <td>0.017820</td>\n      <td>0.019505</td>\n      <td>0.020594</td>\n      <td>0.022770</td>\n      <td>0.023956</td>\n      <td>0.024746</td>\n      <td>0.026326</td>\n      <td>0.027904</td>\n    </tr>\n    <tr>\n      <th>2018-01-05</th>\n      <td>0.012660</td>\n      <td>0.000000</td>\n      <td>0.013852</td>\n      <td>0.015738</td>\n      <td>0.017919</td>\n      <td>0.019505</td>\n      <td>0.020495</td>\n      <td>0.022770</td>\n      <td>0.023857</td>\n      <td>0.024549</td>\n      <td>0.026227</td>\n      <td>0.027904</td>\n    </tr>\n    <tr>\n      <th>2018-01-04</th>\n      <td>0.012759</td>\n      <td>0.000000</td>\n      <td>0.014051</td>\n      <td>0.015936</td>\n      <td>0.018118</td>\n      <td>0.019505</td>\n      <td>0.020396</td>\n      <td>0.022572</td>\n      <td>0.023660</td>\n      <td>0.024450</td>\n      <td>0.026030</td>\n      <td>0.027707</td>\n    </tr>\n    <tr>\n      <th>2018-01-03</th>\n      <td>0.012859</td>\n      <td>0.000000</td>\n      <td>0.014051</td>\n      <td>0.015837</td>\n      <td>0.018019</td>\n      <td>0.019307</td>\n      <td>0.020099</td>\n      <td>0.022374</td>\n      <td>0.023561</td>\n      <td>0.024252</td>\n      <td>0.026030</td>\n      <td>0.027609</td>\n    </tr>\n    <tr>\n      <th>2018-01-02</th>\n      <td>0.012859</td>\n      <td>0.000000</td>\n      <td>0.014348</td>\n      <td>0.016036</td>\n      <td>0.018217</td>\n      <td>0.019108</td>\n      <td>0.020000</td>\n      <td>0.022374</td>\n      <td>0.023660</td>\n      <td>0.024450</td>\n      <td>0.026227</td>\n      <td>0.027904</td>\n    </tr>\n  </tbody>\n</table>\n<p>1170 rows × 12 columns</p>\n</div>"
     },
     "execution_count": 97,
     "metadata": {},
     "output_type": "execute_result"
    }
   ],
   "source": [
    "continuous_yields = big_frame.applymap(lambda x: 2*np.log(1+(x/2)), na_action='ignore')\n",
    "continuous_yields"
   ],
   "metadata": {
    "collapsed": false,
    "pycharm": {
     "name": "#%%\n"
    }
   }
  },
  {
   "cell_type": "markdown",
   "metadata": {
    "pycharm": {
     "name": "#%% md\n"
    }
   },
   "source": [
    "In this data set, the <I>time to maturity</I> (not the time of maturity) is constant in each column. Thus, from the data in each column, we can obtain an estimate of the variance of the day-to-day changes in a continuously compounded yield with a given time to maturity. In order to relate this back to an HJM model, we need the dynamics of rates with fixed time to maturity in the model. \n",
    "\n",
    "We start with the instantaneous forward rates. The instantaneous forward rates $f(t,T)$ modelled in HJM have a fixed time of maturity $T$, with dynamics\n",
    "$$\n",
    "f(t,T)=f(0,T)+\\int_0^t\\sigma(u,T)\\int_u^T\\sigma(u,s)dsdu+\\int_0^t\\sigma(u,T)dW_{\\beta}(u)\\quad\\forall\\\n",
    "t\\in[0,T] $$\n",
    "Define instantaneous forward rates $r(t,x)$ with constant time to maturity $x$ by\n",
    "$$\n",
    "r(t,x)=f(t,t+x)\n",
    "$$\n",
    "The dynamics of $r(t,x)$ are given by the <I>Musiela equation</I> (for a proof, see e.g. Section 18.3 of Bj&ouml;rk, T. (1998) <I>Arbitrage Theory in Continuous Time</I>, Oxford University Press)\n",
    "$$\n",
    "r(t,x)=r(0,x)+\\int_0^t\\left(\\frac{\\partial}{\\partial x}r(u,x)+\\sigma(u,u+x)\\int_0^x\\sigma(u,u+s)ds\\right)du+\\int_0^t\\sigma(u,u+x)dW_{\\beta}(u)\n",
    "$$"
   ]
  },
  {
   "cell_type": "markdown",
   "metadata": {
    "pycharm": {
     "name": "#%% md\n"
    }
   },
   "source": [
    "The continously compounded yield with constant time to maturity $x$ is\n",
    "$$\n",
    "y(t,x)=\\frac1x\\int_0^xr(t,s)ds\n",
    "$$\n",
    "Thus we have for the change in the continously compounded yield with constant time to maturity over a $\\Delta t$ time step:\n",
    "$$\n",
    "y(t+\\Delta t,x)-y(t,x)=\\frac1x\\int_0^x\\left(\\int_t^{t+\\Delta t}\\left(\\frac{\\partial}{\\partial s}r(u,s)+\\sigma(u,u+s)\\int_0^s\\sigma(u,u+v)dv\\right)du+\\int_t^{t+\\Delta t}\\sigma(u,u+s)dW_{\\beta}(u)\\right)ds\n",
    "$$\n",
    "Note that the drift will contribute to the variance of changes in the continously compounded yield via\n",
    "$$\n",
    "\\frac{\\partial}{\\partial s}r(u,s),\n",
    "$$\n",
    "but for practical purposes this is negligible. Thus\n",
    "\\begin{eqnarray*}\n",
    "\\text{Var}[y(t+\\Delta t,x)-y(t,x)] &\\approx& \\text{Var}\\left[\\frac1x\\int_0^x\\int_t^{t+\\Delta t}\\sigma(u,u+s)dW_{\\beta}(u)ds\\right]\\\\\n",
    "&=& \\text{Var}\\left[\\frac1x\\int_t^{t+\\Delta t}\\int_0^x\\nu e^{-a(u+s-u)}dsdW_{\\beta}(u)\\right]\\\\\n",
    "&=& \\text{Var}\\left[\\frac1x\\int_t^{t+\\Delta t}\\frac{\\nu}a(1-e^{-ax})dW_{\\beta}(u)\\right]\\\\\n",
    "&=& \\left(\\frac1x\\frac{\\nu}a(1-e^{-ax})\\right)^2\\Delta t\n",
    "\\end{eqnarray*}"
   ]
  },
  {
   "cell_type": "markdown",
   "metadata": {
    "pycharm": {
     "name": "#%% md\n"
    }
   },
   "source": [
    "<H2>Task 2:</H2>\n",
    "Assuming a one-factor Gauss/Markov HJM model with mean reversion fixed at $a = 0.1$, use all the data for the six-month yields to determine an appropriate choice of the volatility level $\\nu$ (notation as above). For simplicity, you may assume that the data observations are equally spaced in calendar time. <I>(3 marks)</I>"
   ]
  },
  {
   "cell_type": "code",
   "execution_count": 98,
   "metadata": {
    "pycharm": {
     "name": "#%%\n"
    }
   },
   "outputs": [
    {
     "data": {
      "text/plain": "                1 Mo      2 Mo      3 Mo      6 Mo      1 Yr      2 Yr  \\\nDate                                                                     \n2022-09-02  0.024746  0.027707  0.029186  0.033026  0.034402  0.033714   \n2022-09-01  0.025141  0.027806  0.029482  0.033124  0.034796  0.034796   \n2022-08-31  0.023857  0.027017  0.029383  0.032927  0.034697  0.034206   \n2022-08-30  0.024154  0.027115  0.029482  0.032829  0.034501  0.034304   \n2022-08-29  0.024351  0.027313  0.029482  0.032927  0.034009  0.033911   \n...              ...       ...       ...       ...       ...       ...   \n2018-01-08  0.012958  0.000000  0.014448  0.015936  0.017820  0.019505   \n2018-01-05  0.012660  0.000000  0.013852  0.015738  0.017919  0.019505   \n2018-01-04  0.012759  0.000000  0.014051  0.015936  0.018118  0.019505   \n2018-01-03  0.012859  0.000000  0.014051  0.015837  0.018019  0.019307   \n2018-01-02  0.012859  0.000000  0.014348  0.016036  0.018217  0.019108   \n\n                3 Yr      5 Yr      7 Yr     10 Yr     20 Yr     30 Yr  \\\nDate                                                                     \n2022-09-02  0.034108  0.032731  0.032632  0.031747  0.035778  0.033223   \n2022-09-01  0.035090  0.033616  0.033321  0.032337  0.036073  0.033419   \n2022-08-31  0.034304  0.032731  0.032239  0.031255  0.034992  0.032436   \n2022-08-30  0.034402  0.032436  0.031944  0.030861  0.034599  0.032042   \n2022-08-29  0.034206  0.032436  0.031845  0.030959  0.034697  0.032239   \n...              ...       ...       ...       ...       ...       ...   \n2018-01-08  0.020594  0.022770  0.023956  0.024746  0.026326  0.027904   \n2018-01-05  0.020495  0.022770  0.023857  0.024549  0.026227  0.027904   \n2018-01-04  0.020396  0.022572  0.023660  0.024450  0.026030  0.027707   \n2018-01-03  0.020099  0.022374  0.023561  0.024252  0.026030  0.027609   \n2018-01-02  0.020000  0.022374  0.023660  0.024450  0.026227  0.027904   \n\n            6month Diff  \nDate                     \n2022-09-02          NaN  \n2022-09-01     0.000098  \n2022-08-31    -0.000197  \n2022-08-30    -0.000098  \n2022-08-29     0.000098  \n...                 ...  \n2018-01-08     0.000000  \n2018-01-05    -0.000198  \n2018-01-04     0.000198  \n2018-01-03    -0.000099  \n2018-01-02     0.000198  \n\n[1170 rows x 13 columns]",
      "text/html": "<div>\n<style scoped>\n    .dataframe tbody tr th:only-of-type {\n        vertical-align: middle;\n    }\n\n    .dataframe tbody tr th {\n        vertical-align: top;\n    }\n\n    .dataframe thead th {\n        text-align: right;\n    }\n</style>\n<table border=\"1\" class=\"dataframe\">\n  <thead>\n    <tr style=\"text-align: right;\">\n      <th></th>\n      <th>1 Mo</th>\n      <th>2 Mo</th>\n      <th>3 Mo</th>\n      <th>6 Mo</th>\n      <th>1 Yr</th>\n      <th>2 Yr</th>\n      <th>3 Yr</th>\n      <th>5 Yr</th>\n      <th>7 Yr</th>\n      <th>10 Yr</th>\n      <th>20 Yr</th>\n      <th>30 Yr</th>\n      <th>6month Diff</th>\n    </tr>\n    <tr>\n      <th>Date</th>\n      <th></th>\n      <th></th>\n      <th></th>\n      <th></th>\n      <th></th>\n      <th></th>\n      <th></th>\n      <th></th>\n      <th></th>\n      <th></th>\n      <th></th>\n      <th></th>\n      <th></th>\n    </tr>\n  </thead>\n  <tbody>\n    <tr>\n      <th>2022-09-02</th>\n      <td>0.024746</td>\n      <td>0.027707</td>\n      <td>0.029186</td>\n      <td>0.033026</td>\n      <td>0.034402</td>\n      <td>0.033714</td>\n      <td>0.034108</td>\n      <td>0.032731</td>\n      <td>0.032632</td>\n      <td>0.031747</td>\n      <td>0.035778</td>\n      <td>0.033223</td>\n      <td>NaN</td>\n    </tr>\n    <tr>\n      <th>2022-09-01</th>\n      <td>0.025141</td>\n      <td>0.027806</td>\n      <td>0.029482</td>\n      <td>0.033124</td>\n      <td>0.034796</td>\n      <td>0.034796</td>\n      <td>0.035090</td>\n      <td>0.033616</td>\n      <td>0.033321</td>\n      <td>0.032337</td>\n      <td>0.036073</td>\n      <td>0.033419</td>\n      <td>0.000098</td>\n    </tr>\n    <tr>\n      <th>2022-08-31</th>\n      <td>0.023857</td>\n      <td>0.027017</td>\n      <td>0.029383</td>\n      <td>0.032927</td>\n      <td>0.034697</td>\n      <td>0.034206</td>\n      <td>0.034304</td>\n      <td>0.032731</td>\n      <td>0.032239</td>\n      <td>0.031255</td>\n      <td>0.034992</td>\n      <td>0.032436</td>\n      <td>-0.000197</td>\n    </tr>\n    <tr>\n      <th>2022-08-30</th>\n      <td>0.024154</td>\n      <td>0.027115</td>\n      <td>0.029482</td>\n      <td>0.032829</td>\n      <td>0.034501</td>\n      <td>0.034304</td>\n      <td>0.034402</td>\n      <td>0.032436</td>\n      <td>0.031944</td>\n      <td>0.030861</td>\n      <td>0.034599</td>\n      <td>0.032042</td>\n      <td>-0.000098</td>\n    </tr>\n    <tr>\n      <th>2022-08-29</th>\n      <td>0.024351</td>\n      <td>0.027313</td>\n      <td>0.029482</td>\n      <td>0.032927</td>\n      <td>0.034009</td>\n      <td>0.033911</td>\n      <td>0.034206</td>\n      <td>0.032436</td>\n      <td>0.031845</td>\n      <td>0.030959</td>\n      <td>0.034697</td>\n      <td>0.032239</td>\n      <td>0.000098</td>\n    </tr>\n    <tr>\n      <th>...</th>\n      <td>...</td>\n      <td>...</td>\n      <td>...</td>\n      <td>...</td>\n      <td>...</td>\n      <td>...</td>\n      <td>...</td>\n      <td>...</td>\n      <td>...</td>\n      <td>...</td>\n      <td>...</td>\n      <td>...</td>\n      <td>...</td>\n    </tr>\n    <tr>\n      <th>2018-01-08</th>\n      <td>0.012958</td>\n      <td>0.000000</td>\n      <td>0.014448</td>\n      <td>0.015936</td>\n      <td>0.017820</td>\n      <td>0.019505</td>\n      <td>0.020594</td>\n      <td>0.022770</td>\n      <td>0.023956</td>\n      <td>0.024746</td>\n      <td>0.026326</td>\n      <td>0.027904</td>\n      <td>0.000000</td>\n    </tr>\n    <tr>\n      <th>2018-01-05</th>\n      <td>0.012660</td>\n      <td>0.000000</td>\n      <td>0.013852</td>\n      <td>0.015738</td>\n      <td>0.017919</td>\n      <td>0.019505</td>\n      <td>0.020495</td>\n      <td>0.022770</td>\n      <td>0.023857</td>\n      <td>0.024549</td>\n      <td>0.026227</td>\n      <td>0.027904</td>\n      <td>-0.000198</td>\n    </tr>\n    <tr>\n      <th>2018-01-04</th>\n      <td>0.012759</td>\n      <td>0.000000</td>\n      <td>0.014051</td>\n      <td>0.015936</td>\n      <td>0.018118</td>\n      <td>0.019505</td>\n      <td>0.020396</td>\n      <td>0.022572</td>\n      <td>0.023660</td>\n      <td>0.024450</td>\n      <td>0.026030</td>\n      <td>0.027707</td>\n      <td>0.000198</td>\n    </tr>\n    <tr>\n      <th>2018-01-03</th>\n      <td>0.012859</td>\n      <td>0.000000</td>\n      <td>0.014051</td>\n      <td>0.015837</td>\n      <td>0.018019</td>\n      <td>0.019307</td>\n      <td>0.020099</td>\n      <td>0.022374</td>\n      <td>0.023561</td>\n      <td>0.024252</td>\n      <td>0.026030</td>\n      <td>0.027609</td>\n      <td>-0.000099</td>\n    </tr>\n    <tr>\n      <th>2018-01-02</th>\n      <td>0.012859</td>\n      <td>0.000000</td>\n      <td>0.014348</td>\n      <td>0.016036</td>\n      <td>0.018217</td>\n      <td>0.019108</td>\n      <td>0.020000</td>\n      <td>0.022374</td>\n      <td>0.023660</td>\n      <td>0.024450</td>\n      <td>0.026227</td>\n      <td>0.027904</td>\n      <td>0.000198</td>\n    </tr>\n  </tbody>\n</table>\n<p>1170 rows × 13 columns</p>\n</div>"
     },
     "execution_count": 98,
     "metadata": {},
     "output_type": "execute_result"
    }
   ],
   "source": [
    "continuous_yields['6month Diff'] = continuous_yields['6 Mo'].diff()\n",
    "continuous_yields"
   ]
  },
  {
   "cell_type": "code",
   "execution_count": 99,
   "outputs": [
    {
     "data": {
      "text/plain": "8.942524909685558e-08"
     },
     "execution_count": 99,
     "metadata": {},
     "output_type": "execute_result"
    }
   ],
   "source": [
    "six_month_diff_var = np.var(continuous_yields['6month Diff'])\n",
    "six_month_diff_var"
   ],
   "metadata": {
    "collapsed": false,
    "pycharm": {
     "name": "#%%\n"
    }
   }
  },
  {
   "cell_type": "markdown",
   "source": [
    "$$ Var[y(t+\\Delta t, x) - y(t,x)] = \\left(\\frac{v}{xa}(1-e^{-ax})\\right)^2\\Delta t $$\n",
    "\n",
    "Let:\n",
    "$$z = Var[y(t+\\Delta t, x) - y(t,x)]$$\n",
    "\n",
    "Therefore:\n",
    "\n",
    "$$ v = \\frac{xa(\\frac{z}{\\Delta t})^{0.5}}{1-e^{-ax}} $$"
   ],
   "metadata": {
    "collapsed": false,
    "pycharm": {
     "name": "#%% md\n"
    }
   }
  },
  {
   "cell_type": "code",
   "execution_count": 100,
   "outputs": [
    {
     "data": {
      "text/plain": "0.005857180873021723"
     },
     "execution_count": 100,
     "metadata": {},
     "output_type": "execute_result"
    }
   ],
   "source": [
    "a = 0.1\n",
    "delta_t = 1/365\n",
    "x = 0.5\n",
    "z = six_month_diff_var\n",
    "\n",
    "HJM_vol_level = ((x*a)*(z/delta_t)**0.5)/(1-np.exp(-a*x))\n",
    "HJM_vol_level"
   ],
   "metadata": {
    "collapsed": false,
    "pycharm": {
     "name": "#%%\n"
    }
   }
  },
  {
   "cell_type": "markdown",
   "metadata": {
    "pycharm": {
     "name": "#%% md\n"
    }
   },
   "source": [
    "<H2>Task 3:</H2>\n",
    "Assuming a one-factor Gauss/Markov HJM model, use all the data for the one-month and thirty-year yields to determine an appropriate choice of the mean reversion parameter $a$ and volatility level $\\nu$. For simplicity, you may assume that the data observations are equally spaced in calendar time. <I>(3 marks)</I>"
   ]
  },
  {
   "cell_type": "code",
   "execution_count": 101,
   "metadata": {
    "pycharm": {
     "name": "#%%\n"
    }
   },
   "outputs": [
    {
     "data": {
      "text/plain": "                1 Mo      2 Mo      3 Mo      6 Mo      1 Yr      2 Yr  \\\nDate                                                                     \n2022-09-02  0.024746  0.027707  0.029186  0.033026  0.034402  0.033714   \n2022-09-01  0.025141  0.027806  0.029482  0.033124  0.034796  0.034796   \n2022-08-31  0.023857  0.027017  0.029383  0.032927  0.034697  0.034206   \n2022-08-30  0.024154  0.027115  0.029482  0.032829  0.034501  0.034304   \n2022-08-29  0.024351  0.027313  0.029482  0.032927  0.034009  0.033911   \n...              ...       ...       ...       ...       ...       ...   \n2018-01-08  0.012958  0.000000  0.014448  0.015936  0.017820  0.019505   \n2018-01-05  0.012660  0.000000  0.013852  0.015738  0.017919  0.019505   \n2018-01-04  0.012759  0.000000  0.014051  0.015936  0.018118  0.019505   \n2018-01-03  0.012859  0.000000  0.014051  0.015837  0.018019  0.019307   \n2018-01-02  0.012859  0.000000  0.014348  0.016036  0.018217  0.019108   \n\n                3 Yr      5 Yr      7 Yr     10 Yr     20 Yr     30 Yr  \\\nDate                                                                     \n2022-09-02  0.034108  0.032731  0.032632  0.031747  0.035778  0.033223   \n2022-09-01  0.035090  0.033616  0.033321  0.032337  0.036073  0.033419   \n2022-08-31  0.034304  0.032731  0.032239  0.031255  0.034992  0.032436   \n2022-08-30  0.034402  0.032436  0.031944  0.030861  0.034599  0.032042   \n2022-08-29  0.034206  0.032436  0.031845  0.030959  0.034697  0.032239   \n...              ...       ...       ...       ...       ...       ...   \n2018-01-08  0.020594  0.022770  0.023956  0.024746  0.026326  0.027904   \n2018-01-05  0.020495  0.022770  0.023857  0.024549  0.026227  0.027904   \n2018-01-04  0.020396  0.022572  0.023660  0.024450  0.026030  0.027707   \n2018-01-03  0.020099  0.022374  0.023561  0.024252  0.026030  0.027609   \n2018-01-02  0.020000  0.022374  0.023660  0.024450  0.026227  0.027904   \n\n            6month Diff  1month Diff  30yr Diff  \nDate                                             \n2022-09-02          NaN          NaN        NaN  \n2022-09-01     0.000098     0.000395   0.000197  \n2022-08-31    -0.000197    -0.001284  -0.000984  \n2022-08-30    -0.000098     0.000296  -0.000394  \n2022-08-29     0.000098     0.000198   0.000197  \n...                 ...          ...        ...  \n2018-01-08     0.000000     0.000298  -0.000690  \n2018-01-05    -0.000198    -0.000298   0.000000  \n2018-01-04     0.000198     0.000099  -0.000197  \n2018-01-03    -0.000099     0.000099  -0.000099  \n2018-01-02     0.000198     0.000000   0.000296  \n\n[1170 rows x 15 columns]",
      "text/html": "<div>\n<style scoped>\n    .dataframe tbody tr th:only-of-type {\n        vertical-align: middle;\n    }\n\n    .dataframe tbody tr th {\n        vertical-align: top;\n    }\n\n    .dataframe thead th {\n        text-align: right;\n    }\n</style>\n<table border=\"1\" class=\"dataframe\">\n  <thead>\n    <tr style=\"text-align: right;\">\n      <th></th>\n      <th>1 Mo</th>\n      <th>2 Mo</th>\n      <th>3 Mo</th>\n      <th>6 Mo</th>\n      <th>1 Yr</th>\n      <th>2 Yr</th>\n      <th>3 Yr</th>\n      <th>5 Yr</th>\n      <th>7 Yr</th>\n      <th>10 Yr</th>\n      <th>20 Yr</th>\n      <th>30 Yr</th>\n      <th>6month Diff</th>\n      <th>1month Diff</th>\n      <th>30yr Diff</th>\n    </tr>\n    <tr>\n      <th>Date</th>\n      <th></th>\n      <th></th>\n      <th></th>\n      <th></th>\n      <th></th>\n      <th></th>\n      <th></th>\n      <th></th>\n      <th></th>\n      <th></th>\n      <th></th>\n      <th></th>\n      <th></th>\n      <th></th>\n      <th></th>\n    </tr>\n  </thead>\n  <tbody>\n    <tr>\n      <th>2022-09-02</th>\n      <td>0.024746</td>\n      <td>0.027707</td>\n      <td>0.029186</td>\n      <td>0.033026</td>\n      <td>0.034402</td>\n      <td>0.033714</td>\n      <td>0.034108</td>\n      <td>0.032731</td>\n      <td>0.032632</td>\n      <td>0.031747</td>\n      <td>0.035778</td>\n      <td>0.033223</td>\n      <td>NaN</td>\n      <td>NaN</td>\n      <td>NaN</td>\n    </tr>\n    <tr>\n      <th>2022-09-01</th>\n      <td>0.025141</td>\n      <td>0.027806</td>\n      <td>0.029482</td>\n      <td>0.033124</td>\n      <td>0.034796</td>\n      <td>0.034796</td>\n      <td>0.035090</td>\n      <td>0.033616</td>\n      <td>0.033321</td>\n      <td>0.032337</td>\n      <td>0.036073</td>\n      <td>0.033419</td>\n      <td>0.000098</td>\n      <td>0.000395</td>\n      <td>0.000197</td>\n    </tr>\n    <tr>\n      <th>2022-08-31</th>\n      <td>0.023857</td>\n      <td>0.027017</td>\n      <td>0.029383</td>\n      <td>0.032927</td>\n      <td>0.034697</td>\n      <td>0.034206</td>\n      <td>0.034304</td>\n      <td>0.032731</td>\n      <td>0.032239</td>\n      <td>0.031255</td>\n      <td>0.034992</td>\n      <td>0.032436</td>\n      <td>-0.000197</td>\n      <td>-0.001284</td>\n      <td>-0.000984</td>\n    </tr>\n    <tr>\n      <th>2022-08-30</th>\n      <td>0.024154</td>\n      <td>0.027115</td>\n      <td>0.029482</td>\n      <td>0.032829</td>\n      <td>0.034501</td>\n      <td>0.034304</td>\n      <td>0.034402</td>\n      <td>0.032436</td>\n      <td>0.031944</td>\n      <td>0.030861</td>\n      <td>0.034599</td>\n      <td>0.032042</td>\n      <td>-0.000098</td>\n      <td>0.000296</td>\n      <td>-0.000394</td>\n    </tr>\n    <tr>\n      <th>2022-08-29</th>\n      <td>0.024351</td>\n      <td>0.027313</td>\n      <td>0.029482</td>\n      <td>0.032927</td>\n      <td>0.034009</td>\n      <td>0.033911</td>\n      <td>0.034206</td>\n      <td>0.032436</td>\n      <td>0.031845</td>\n      <td>0.030959</td>\n      <td>0.034697</td>\n      <td>0.032239</td>\n      <td>0.000098</td>\n      <td>0.000198</td>\n      <td>0.000197</td>\n    </tr>\n    <tr>\n      <th>...</th>\n      <td>...</td>\n      <td>...</td>\n      <td>...</td>\n      <td>...</td>\n      <td>...</td>\n      <td>...</td>\n      <td>...</td>\n      <td>...</td>\n      <td>...</td>\n      <td>...</td>\n      <td>...</td>\n      <td>...</td>\n      <td>...</td>\n      <td>...</td>\n      <td>...</td>\n    </tr>\n    <tr>\n      <th>2018-01-08</th>\n      <td>0.012958</td>\n      <td>0.000000</td>\n      <td>0.014448</td>\n      <td>0.015936</td>\n      <td>0.017820</td>\n      <td>0.019505</td>\n      <td>0.020594</td>\n      <td>0.022770</td>\n      <td>0.023956</td>\n      <td>0.024746</td>\n      <td>0.026326</td>\n      <td>0.027904</td>\n      <td>0.000000</td>\n      <td>0.000298</td>\n      <td>-0.000690</td>\n    </tr>\n    <tr>\n      <th>2018-01-05</th>\n      <td>0.012660</td>\n      <td>0.000000</td>\n      <td>0.013852</td>\n      <td>0.015738</td>\n      <td>0.017919</td>\n      <td>0.019505</td>\n      <td>0.020495</td>\n      <td>0.022770</td>\n      <td>0.023857</td>\n      <td>0.024549</td>\n      <td>0.026227</td>\n      <td>0.027904</td>\n      <td>-0.000198</td>\n      <td>-0.000298</td>\n      <td>0.000000</td>\n    </tr>\n    <tr>\n      <th>2018-01-04</th>\n      <td>0.012759</td>\n      <td>0.000000</td>\n      <td>0.014051</td>\n      <td>0.015936</td>\n      <td>0.018118</td>\n      <td>0.019505</td>\n      <td>0.020396</td>\n      <td>0.022572</td>\n      <td>0.023660</td>\n      <td>0.024450</td>\n      <td>0.026030</td>\n      <td>0.027707</td>\n      <td>0.000198</td>\n      <td>0.000099</td>\n      <td>-0.000197</td>\n    </tr>\n    <tr>\n      <th>2018-01-03</th>\n      <td>0.012859</td>\n      <td>0.000000</td>\n      <td>0.014051</td>\n      <td>0.015837</td>\n      <td>0.018019</td>\n      <td>0.019307</td>\n      <td>0.020099</td>\n      <td>0.022374</td>\n      <td>0.023561</td>\n      <td>0.024252</td>\n      <td>0.026030</td>\n      <td>0.027609</td>\n      <td>-0.000099</td>\n      <td>0.000099</td>\n      <td>-0.000099</td>\n    </tr>\n    <tr>\n      <th>2018-01-02</th>\n      <td>0.012859</td>\n      <td>0.000000</td>\n      <td>0.014348</td>\n      <td>0.016036</td>\n      <td>0.018217</td>\n      <td>0.019108</td>\n      <td>0.020000</td>\n      <td>0.022374</td>\n      <td>0.023660</td>\n      <td>0.024450</td>\n      <td>0.026227</td>\n      <td>0.027904</td>\n      <td>0.000198</td>\n      <td>0.000000</td>\n      <td>0.000296</td>\n    </tr>\n  </tbody>\n</table>\n<p>1170 rows × 15 columns</p>\n</div>"
     },
     "execution_count": 101,
     "metadata": {},
     "output_type": "execute_result"
    }
   ],
   "source": [
    "continuous_yields['1month Diff'] = continuous_yields['1 Mo'].diff()\n",
    "continuous_yields['30yr Diff'] = continuous_yields['30 Yr'].diff()\n",
    "continuous_yields"
   ]
  },
  {
   "cell_type": "code",
   "execution_count": 102,
   "outputs": [],
   "source": [
    "one_month_diff_var = np.var(continuous_yields['1month Diff'])\n",
    "thirty_year_diff_var = np.var(continuous_yields['30yr Diff'])"
   ],
   "metadata": {
    "collapsed": false,
    "pycharm": {
     "name": "#%%\n"
    }
   }
  },
  {
   "cell_type": "code",
   "execution_count": 103,
   "outputs": [
    {
     "name": "stdout",
     "output_type": "stream",
     "text": [
      "HJM Volatility Level 'v': 0.006282\n",
      "HJM Mean Reversion 'a': -0.025101\n"
     ]
    }
   ],
   "source": [
    "t1 = 1/12\n",
    "t2 = 30\n",
    "\n",
    "def func(y):\n",
    "    return [((y[0]/y[1])*(1/t1)*(1-np.exp(-y[1]*t1)))**2*delta_t - one_month_diff_var, ((y[0]/y[1]*(1/t2))*(1-np.exp(-y[1]*t2)))**2*delta_t - thirty_year_diff_var]\n",
    "\n",
    "\n",
    "\n",
    "root = spo.fsolve(func, [0.01, 0.01])\n",
    "vol = root[0]\n",
    "mean_reversion = root[1]\n",
    "print(f\"HJM Volatility Level 'v': {vol:.6f}\")\n",
    "print(f\"HJM Mean Reversion 'a': {mean_reversion:.6f}\")"
   ],
   "metadata": {
    "collapsed": false,
    "pycharm": {
     "name": "#%%\n"
    }
   }
  },
  {
   "cell_type": "markdown",
   "metadata": {
    "pycharm": {
     "name": "#%% md\n"
    }
   },
   "source": [
    "A way in which the performance of a model for risk management purposes can be <B>backtested</B> is to use historical interest data to analyse what would have happened if one had used the model to hedge a derivative security in the past. This motivates the following Task:"
   ]
  },
  {
   "cell_type": "markdown",
   "metadata": {
    "pycharm": {
     "name": "#%% md\n"
    }
   },
   "source": [
    "<H2>Task 4:</H2>\n",
    "Suppose that at the beginning of January 2022 you have sold an at-the-money caplet covering a three-month accrual period beginning in six months' time. If you hedge this caplet with rebalancing on every day for which there is data, using the natural hedge instruments, what would be your profit/loss when this option matures? Assume that caplet price and hedges are calculated using a one-factor Gauss/Markov HJM model with the parameters determined as in Task 3, but <B>using only data which would have been available at the time the caplet was sold</B>. Assume that any profit/loss is invested/borrowed by buying/selling the zero coupon bond maturing at the same time as the option. Repeat\n",
    "this for a caplet sold at the beginning of, respectively, April 2021, July 2021, and October 2021. Discuss the possible causes of profit/loss. <I>(13 marks)</I>"
   ]
  },
  {
   "cell_type": "code",
   "execution_count": 104,
   "metadata": {
    "pycharm": {
     "name": "#%%\n"
    }
   },
   "outputs": [],
   "source": [
    "import warnings\n",
    "warnings.simplefilter(action='ignore', category=FutureWarning)\n",
    "from scipy.stats import norm"
   ]
  },
  {
   "cell_type": "code",
   "execution_count": 105,
   "metadata": {
    "pycharm": {
     "name": "#%%\n"
    }
   },
   "outputs": [],
   "source": [
    "def HJM_value_levels(start_date, end_date, df, t1, t2, delta_t):\n",
    "    variance_one = np.var(df[start_date:end_date]['1 Mo'].iloc[::-1].diff())\n",
    "    variance_two = np.var(df[start_date:end_date]['30 Yr'].iloc[::-1].diff())\n",
    "\n",
    "    guess = np.array([0.001, 0.001])\n",
    "\n",
    "    parameters = (variance_one, variance_two, delta_t, t1, t2)\n",
    "\n",
    "    root = spo.fsolve(param_solver, guess, args=parameters)\n",
    "\n",
    "    mean = root[0]\n",
    "    vol = root[1]\n",
    "\n",
    "    return mean, vol\n",
    "\n",
    "def ZCBLogLin(B1, B2, d1, d2, interp_date):\n",
    "    ttm = (interp_date - d1)/(d2 - d1)\n",
    "    return B1**(1.-ttm) * B2**(ttm)\n",
    "\n",
    "def interpolation_zcb(df, zcb_maturity , dates, df_zcb_col, df_T_col):\n",
    "    T_List = []\n",
    "    ZCB_List = []\n",
    "    for index, row in df.iterrows():\n",
    "        T = (pd.to_datetime(zcb_maturity) - index).days / 365\n",
    "\n",
    "        i = 0\n",
    "        for j, date in enumerate(dates):\n",
    "            if T >= date and T <= dates[j + 1]:\n",
    "                i = j\n",
    "\n",
    "        B1 = row[i]\n",
    "        B2 = row[i + 1]\n",
    "        d1 = dates[i]\n",
    "        d2 = dates[i + 1]\n",
    "\n",
    "        Inter_ZCB = ZCBLogLin(B1, B2, d1, d2, T)\n",
    "        ZCB_List.append(Inter_ZCB)\n",
    "        T_List.append(T)\n",
    "\n",
    "    df[df_zcb_col] = ZCB_List\n",
    "    df[df_T_col] = T_List\n",
    "\n",
    "    return df\n",
    "\n",
    "def delta(B1, B2, K, t, T1, T2, vol_level, mean_reversion, sign):\n",
    "\n",
    "    vol = (vol_level**2 * ((np.exp(mean_reversion * T1) - np.exp(mean_reversion * T2)) ** 2) * (np.exp(-2*mean_reversion*T2) - np.exp(-2*mean_reversion*(T1-t+T2))))/(2*mean_reversion**3)\n",
    "\n",
    "    delta = (np.log(B2/(K*B1)) + (sign * 0.5 * vol))/np.sqrt(vol)\n",
    "\n",
    "    return delta"
   ]
  },
  {
   "cell_type": "code",
   "execution_count": 106,
   "outputs": [
    {
     "data": {
      "text/plain": "                1 Mo      2 Mo      3 Mo      6 Mo      1 Yr      2 Yr  \\\nDate                                                                     \n2018-01-02  0.012859  0.000000  0.014348  0.016036  0.018217  0.019108   \n2018-01-03  0.012859  0.000000  0.014051  0.015837  0.018019  0.019307   \n2018-01-04  0.012759  0.000000  0.014051  0.015936  0.018118  0.019505   \n2018-01-05  0.012660  0.000000  0.013852  0.015738  0.017919  0.019505   \n2018-01-08  0.012958  0.000000  0.014448  0.015936  0.017820  0.019505   \n...              ...       ...       ...       ...       ...       ...   \n2022-08-29  0.024351  0.027313  0.029482  0.032927  0.034009  0.033911   \n2022-08-30  0.024154  0.027115  0.029482  0.032829  0.034501  0.034304   \n2022-08-31  0.023857  0.027017  0.029383  0.032927  0.034697  0.034206   \n2022-09-01  0.025141  0.027806  0.029482  0.033124  0.034796  0.034796   \n2022-09-02  0.024746  0.027707  0.029186  0.033026  0.034402  0.033714   \n\n                3 Yr      5 Yr      7 Yr     10 Yr     20 Yr     30 Yr  \nDate                                                                    \n2018-01-02  0.020000  0.022374  0.023660  0.024450  0.026227  0.027904  \n2018-01-03  0.020099  0.022374  0.023561  0.024252  0.026030  0.027609  \n2018-01-04  0.020396  0.022572  0.023660  0.024450  0.026030  0.027707  \n2018-01-05  0.020495  0.022770  0.023857  0.024549  0.026227  0.027904  \n2018-01-08  0.020594  0.022770  0.023956  0.024746  0.026326  0.027904  \n...              ...       ...       ...       ...       ...       ...  \n2022-08-29  0.034206  0.032436  0.031845  0.030959  0.034697  0.032239  \n2022-08-30  0.034402  0.032436  0.031944  0.030861  0.034599  0.032042  \n2022-08-31  0.034304  0.032731  0.032239  0.031255  0.034992  0.032436  \n2022-09-01  0.035090  0.033616  0.033321  0.032337  0.036073  0.033419  \n2022-09-02  0.034108  0.032731  0.032632  0.031747  0.035778  0.033223  \n\n[1170 rows x 12 columns]",
      "text/html": "<div>\n<style scoped>\n    .dataframe tbody tr th:only-of-type {\n        vertical-align: middle;\n    }\n\n    .dataframe tbody tr th {\n        vertical-align: top;\n    }\n\n    .dataframe thead th {\n        text-align: right;\n    }\n</style>\n<table border=\"1\" class=\"dataframe\">\n  <thead>\n    <tr style=\"text-align: right;\">\n      <th></th>\n      <th>1 Mo</th>\n      <th>2 Mo</th>\n      <th>3 Mo</th>\n      <th>6 Mo</th>\n      <th>1 Yr</th>\n      <th>2 Yr</th>\n      <th>3 Yr</th>\n      <th>5 Yr</th>\n      <th>7 Yr</th>\n      <th>10 Yr</th>\n      <th>20 Yr</th>\n      <th>30 Yr</th>\n    </tr>\n    <tr>\n      <th>Date</th>\n      <th></th>\n      <th></th>\n      <th></th>\n      <th></th>\n      <th></th>\n      <th></th>\n      <th></th>\n      <th></th>\n      <th></th>\n      <th></th>\n      <th></th>\n      <th></th>\n    </tr>\n  </thead>\n  <tbody>\n    <tr>\n      <th>2018-01-02</th>\n      <td>0.012859</td>\n      <td>0.000000</td>\n      <td>0.014348</td>\n      <td>0.016036</td>\n      <td>0.018217</td>\n      <td>0.019108</td>\n      <td>0.020000</td>\n      <td>0.022374</td>\n      <td>0.023660</td>\n      <td>0.024450</td>\n      <td>0.026227</td>\n      <td>0.027904</td>\n    </tr>\n    <tr>\n      <th>2018-01-03</th>\n      <td>0.012859</td>\n      <td>0.000000</td>\n      <td>0.014051</td>\n      <td>0.015837</td>\n      <td>0.018019</td>\n      <td>0.019307</td>\n      <td>0.020099</td>\n      <td>0.022374</td>\n      <td>0.023561</td>\n      <td>0.024252</td>\n      <td>0.026030</td>\n      <td>0.027609</td>\n    </tr>\n    <tr>\n      <th>2018-01-04</th>\n      <td>0.012759</td>\n      <td>0.000000</td>\n      <td>0.014051</td>\n      <td>0.015936</td>\n      <td>0.018118</td>\n      <td>0.019505</td>\n      <td>0.020396</td>\n      <td>0.022572</td>\n      <td>0.023660</td>\n      <td>0.024450</td>\n      <td>0.026030</td>\n      <td>0.027707</td>\n    </tr>\n    <tr>\n      <th>2018-01-05</th>\n      <td>0.012660</td>\n      <td>0.000000</td>\n      <td>0.013852</td>\n      <td>0.015738</td>\n      <td>0.017919</td>\n      <td>0.019505</td>\n      <td>0.020495</td>\n      <td>0.022770</td>\n      <td>0.023857</td>\n      <td>0.024549</td>\n      <td>0.026227</td>\n      <td>0.027904</td>\n    </tr>\n    <tr>\n      <th>2018-01-08</th>\n      <td>0.012958</td>\n      <td>0.000000</td>\n      <td>0.014448</td>\n      <td>0.015936</td>\n      <td>0.017820</td>\n      <td>0.019505</td>\n      <td>0.020594</td>\n      <td>0.022770</td>\n      <td>0.023956</td>\n      <td>0.024746</td>\n      <td>0.026326</td>\n      <td>0.027904</td>\n    </tr>\n    <tr>\n      <th>...</th>\n      <td>...</td>\n      <td>...</td>\n      <td>...</td>\n      <td>...</td>\n      <td>...</td>\n      <td>...</td>\n      <td>...</td>\n      <td>...</td>\n      <td>...</td>\n      <td>...</td>\n      <td>...</td>\n      <td>...</td>\n    </tr>\n    <tr>\n      <th>2022-08-29</th>\n      <td>0.024351</td>\n      <td>0.027313</td>\n      <td>0.029482</td>\n      <td>0.032927</td>\n      <td>0.034009</td>\n      <td>0.033911</td>\n      <td>0.034206</td>\n      <td>0.032436</td>\n      <td>0.031845</td>\n      <td>0.030959</td>\n      <td>0.034697</td>\n      <td>0.032239</td>\n    </tr>\n    <tr>\n      <th>2022-08-30</th>\n      <td>0.024154</td>\n      <td>0.027115</td>\n      <td>0.029482</td>\n      <td>0.032829</td>\n      <td>0.034501</td>\n      <td>0.034304</td>\n      <td>0.034402</td>\n      <td>0.032436</td>\n      <td>0.031944</td>\n      <td>0.030861</td>\n      <td>0.034599</td>\n      <td>0.032042</td>\n    </tr>\n    <tr>\n      <th>2022-08-31</th>\n      <td>0.023857</td>\n      <td>0.027017</td>\n      <td>0.029383</td>\n      <td>0.032927</td>\n      <td>0.034697</td>\n      <td>0.034206</td>\n      <td>0.034304</td>\n      <td>0.032731</td>\n      <td>0.032239</td>\n      <td>0.031255</td>\n      <td>0.034992</td>\n      <td>0.032436</td>\n    </tr>\n    <tr>\n      <th>2022-09-01</th>\n      <td>0.025141</td>\n      <td>0.027806</td>\n      <td>0.029482</td>\n      <td>0.033124</td>\n      <td>0.034796</td>\n      <td>0.034796</td>\n      <td>0.035090</td>\n      <td>0.033616</td>\n      <td>0.033321</td>\n      <td>0.032337</td>\n      <td>0.036073</td>\n      <td>0.033419</td>\n    </tr>\n    <tr>\n      <th>2022-09-02</th>\n      <td>0.024746</td>\n      <td>0.027707</td>\n      <td>0.029186</td>\n      <td>0.033026</td>\n      <td>0.034402</td>\n      <td>0.033714</td>\n      <td>0.034108</td>\n      <td>0.032731</td>\n      <td>0.032632</td>\n      <td>0.031747</td>\n      <td>0.035778</td>\n      <td>0.033223</td>\n    </tr>\n  </tbody>\n</table>\n<p>1170 rows × 12 columns</p>\n</div>"
     },
     "execution_count": 106,
     "metadata": {},
     "output_type": "execute_result"
    }
   ],
   "source": [
    "rates_2018 = pd.read_csv('daily-treasury-rates2018.csv', parse_dates=['Date'], index_col=['Date'])\n",
    "rates_2019 = pd.read_csv('daily-treasury-rates2019.csv', parse_dates=['Date'], index_col=['Date'])\n",
    "rates_2020 = pd.read_csv('daily-treasury-rates2020.csv', parse_dates=['Date'], index_col=['Date'])\n",
    "rates_2021 = pd.read_csv('daily-treasury-rates2021.csv', parse_dates=['Date'], index_col=['Date'])\n",
    "rates_2022 = pd.read_csv('daily-treasury-rates2022.csv', parse_dates=['Date'], index_col=['Date'])\n",
    "\n",
    "frames = [rates_2022, rates_2021, rates_2020, rates_2019, rates_2018]\n",
    "big_frame = pd.concat(frames).fillna(0)*0.01\n",
    "\n",
    "continuous_yields = big_frame.applymap(lambda x: 2*np.log(1+(x/2)), na_action='ignore')\n",
    "continuous_yields = continuous_yields.iloc[::-1]\n",
    "continuous_yields"
   ],
   "metadata": {
    "collapsed": false,
    "pycharm": {
     "name": "#%%\n"
    }
   }
  },
  {
   "cell_type": "markdown",
   "source": [
    "### Caplet Sold In January"
   ],
   "metadata": {
    "collapsed": false,
    "pycharm": {
     "name": "#%% md\n"
    }
   }
  },
  {
   "cell_type": "code",
   "execution_count": 107,
   "outputs": [
    {
     "name": "stdout",
     "output_type": "stream",
     "text": [
      "HJM Vol: 0.006282\n",
      "HJM Mean Reversion: -0.031109\n"
     ]
    }
   ],
   "source": [
    "beginning_date = '2018-01-02'\n",
    "start_date_hedge = '2022-01-03'\n",
    "option_expiry = '2022-06-30'\n",
    "zero_coupon_bond_maturity = '2022-09-30'\n",
    "\n",
    "delta_t = 1/365\n",
    "\n",
    "variance_one = np.var(continuous_yields[beginning_date:start_date_hedge]['1 Mo'].diff())\n",
    "variance_two = np.var(continuous_yields[beginning_date:start_date_hedge]['30 Yr'].diff())\n",
    "\n",
    "t1 = 1/12\n",
    "t2 = 30\n",
    "\n",
    "def param_solver(y):\n",
    "\n",
    "    return [((y[0]/y[1])*(1/t1)*(1-np.exp(-y[1]*t1)))**2*delta_t - variance_one, ((y[0]/y[1]*(1/t2))*(1-np.exp(-y[1]*t2)))**2*delta_t - variance_two]\n",
    "\n",
    "root = spo.fsolve(param_solver, [0.01, 0.01])\n",
    "vol_level = root[0]\n",
    "mean_reversion = root[1]\n",
    "print(f\"HJM Vol: {vol:.6f}\")\n",
    "print(f\"HJM Mean Reversion: {mean_reversion:.6f}\")"
   ],
   "metadata": {
    "collapsed": false,
    "pycharm": {
     "name": "#%%\n"
    }
   }
  },
  {
   "cell_type": "code",
   "execution_count": 108,
   "outputs": [
    {
     "data": {
      "text/plain": "            0 Mo      1 Mo      2 Mo      3 Mo      6 Mo      1 Yr      9 Mo  \\\nDate                                                                           \n2022-01-03     1  0.999958  0.999900  0.999800  0.998901  0.996012  0.997515   \n2022-01-04     1  0.999950  0.999917  0.999800  0.998901  0.996211  0.997625   \n2022-01-05     1  0.999958  0.999900  0.999775  0.998901  0.995913  0.997500   \n2022-01-06     1  0.999967  0.999917  0.999750  0.998851  0.995515  0.997305   \n2022-01-07     1  0.999958  0.999917  0.999750  0.998801  0.995714  0.997388   \n...          ...       ...       ...       ...       ...       ...       ...   \n2022-06-24     1  0.999012  0.997347  0.995703  0.987606  0.972290  0.995102   \n2022-06-27     1  0.999037  0.997397  0.995555  0.987362  0.971715  0.995217   \n2022-06-28     1  0.999070  0.997364  0.995555  0.987411  0.971810  0.995308   \n2022-06-29     1  0.999070  0.997463  0.995579  0.987411  0.971810  0.995422   \n2022-06-30     1  0.998937  0.997216  0.995728  0.987606  0.972577  0.995661   \n\n                  T2  6 Mo_Interpolated        T1  6 to 9 Mo  \nDate                                                          \n2022-01-03  0.739726           0.998946  0.487671   0.998568  \n2022-01-04  0.736986           0.998955  0.484932   0.998668  \n2022-01-05  0.734247           0.998963  0.482192   0.998535  \n2022-01-06  0.731507           0.998925  0.479452   0.998378  \n2022-01-07  0.728767           0.998890  0.476712   0.998496  \n...              ...                ...       ...        ...  \n2022-06-24  0.268493           0.999805  0.016438   0.995296  \n2022-06-27  0.260274           0.999905  0.008219   0.995311  \n2022-06-28  0.257534           0.999939  0.005479   0.995369  \n2022-06-29  0.254795           0.999969  0.002740   0.995453  \n2022-06-30  0.252055           1.000000  0.000000   0.995661  \n\n[124 rows x 11 columns]",
      "text/html": "<div>\n<style scoped>\n    .dataframe tbody tr th:only-of-type {\n        vertical-align: middle;\n    }\n\n    .dataframe tbody tr th {\n        vertical-align: top;\n    }\n\n    .dataframe thead th {\n        text-align: right;\n    }\n</style>\n<table border=\"1\" class=\"dataframe\">\n  <thead>\n    <tr style=\"text-align: right;\">\n      <th></th>\n      <th>0 Mo</th>\n      <th>1 Mo</th>\n      <th>2 Mo</th>\n      <th>3 Mo</th>\n      <th>6 Mo</th>\n      <th>1 Yr</th>\n      <th>9 Mo</th>\n      <th>T2</th>\n      <th>6 Mo_Interpolated</th>\n      <th>T1</th>\n      <th>6 to 9 Mo</th>\n    </tr>\n    <tr>\n      <th>Date</th>\n      <th></th>\n      <th></th>\n      <th></th>\n      <th></th>\n      <th></th>\n      <th></th>\n      <th></th>\n      <th></th>\n      <th></th>\n      <th></th>\n      <th></th>\n    </tr>\n  </thead>\n  <tbody>\n    <tr>\n      <th>2022-01-03</th>\n      <td>1</td>\n      <td>0.999958</td>\n      <td>0.999900</td>\n      <td>0.999800</td>\n      <td>0.998901</td>\n      <td>0.996012</td>\n      <td>0.997515</td>\n      <td>0.739726</td>\n      <td>0.998946</td>\n      <td>0.487671</td>\n      <td>0.998568</td>\n    </tr>\n    <tr>\n      <th>2022-01-04</th>\n      <td>1</td>\n      <td>0.999950</td>\n      <td>0.999917</td>\n      <td>0.999800</td>\n      <td>0.998901</td>\n      <td>0.996211</td>\n      <td>0.997625</td>\n      <td>0.736986</td>\n      <td>0.998955</td>\n      <td>0.484932</td>\n      <td>0.998668</td>\n    </tr>\n    <tr>\n      <th>2022-01-05</th>\n      <td>1</td>\n      <td>0.999958</td>\n      <td>0.999900</td>\n      <td>0.999775</td>\n      <td>0.998901</td>\n      <td>0.995913</td>\n      <td>0.997500</td>\n      <td>0.734247</td>\n      <td>0.998963</td>\n      <td>0.482192</td>\n      <td>0.998535</td>\n    </tr>\n    <tr>\n      <th>2022-01-06</th>\n      <td>1</td>\n      <td>0.999967</td>\n      <td>0.999917</td>\n      <td>0.999750</td>\n      <td>0.998851</td>\n      <td>0.995515</td>\n      <td>0.997305</td>\n      <td>0.731507</td>\n      <td>0.998925</td>\n      <td>0.479452</td>\n      <td>0.998378</td>\n    </tr>\n    <tr>\n      <th>2022-01-07</th>\n      <td>1</td>\n      <td>0.999958</td>\n      <td>0.999917</td>\n      <td>0.999750</td>\n      <td>0.998801</td>\n      <td>0.995714</td>\n      <td>0.997388</td>\n      <td>0.728767</td>\n      <td>0.998890</td>\n      <td>0.476712</td>\n      <td>0.998496</td>\n    </tr>\n    <tr>\n      <th>...</th>\n      <td>...</td>\n      <td>...</td>\n      <td>...</td>\n      <td>...</td>\n      <td>...</td>\n      <td>...</td>\n      <td>...</td>\n      <td>...</td>\n      <td>...</td>\n      <td>...</td>\n      <td>...</td>\n    </tr>\n    <tr>\n      <th>2022-06-24</th>\n      <td>1</td>\n      <td>0.999012</td>\n      <td>0.997347</td>\n      <td>0.995703</td>\n      <td>0.987606</td>\n      <td>0.972290</td>\n      <td>0.995102</td>\n      <td>0.268493</td>\n      <td>0.999805</td>\n      <td>0.016438</td>\n      <td>0.995296</td>\n    </tr>\n    <tr>\n      <th>2022-06-27</th>\n      <td>1</td>\n      <td>0.999037</td>\n      <td>0.997397</td>\n      <td>0.995555</td>\n      <td>0.987362</td>\n      <td>0.971715</td>\n      <td>0.995217</td>\n      <td>0.260274</td>\n      <td>0.999905</td>\n      <td>0.008219</td>\n      <td>0.995311</td>\n    </tr>\n    <tr>\n      <th>2022-06-28</th>\n      <td>1</td>\n      <td>0.999070</td>\n      <td>0.997364</td>\n      <td>0.995555</td>\n      <td>0.987411</td>\n      <td>0.971810</td>\n      <td>0.995308</td>\n      <td>0.257534</td>\n      <td>0.999939</td>\n      <td>0.005479</td>\n      <td>0.995369</td>\n    </tr>\n    <tr>\n      <th>2022-06-29</th>\n      <td>1</td>\n      <td>0.999070</td>\n      <td>0.997463</td>\n      <td>0.995579</td>\n      <td>0.987411</td>\n      <td>0.971810</td>\n      <td>0.995422</td>\n      <td>0.254795</td>\n      <td>0.999969</td>\n      <td>0.002740</td>\n      <td>0.995453</td>\n    </tr>\n    <tr>\n      <th>2022-06-30</th>\n      <td>1</td>\n      <td>0.998937</td>\n      <td>0.997216</td>\n      <td>0.995728</td>\n      <td>0.987606</td>\n      <td>0.972577</td>\n      <td>0.995661</td>\n      <td>0.252055</td>\n      <td>1.000000</td>\n      <td>0.000000</td>\n      <td>0.995661</td>\n    </tr>\n  </tbody>\n</table>\n<p>124 rows × 11 columns</p>\n</div>"
     },
     "execution_count": 108,
     "metadata": {},
     "output_type": "execute_result"
    }
   ],
   "source": [
    "zcb_df = continuous_yields[start_date_hedge:option_expiry][['1 Mo', '2 Mo', '3 Mo','6 Mo','1 Yr']]\n",
    "\n",
    "dates = [1/12, 2/12, 3/12, 6/12, 1]\n",
    "\n",
    "for index, date in enumerate(dates):\n",
    "    zcb_df.iloc[:,index] = zcb_df.iloc[:,index].apply(lambda x: np.exp(-x * date))\n",
    "\n",
    "dates = [0, 1/12, 2/12, 3/12, 6/12, 1]\n",
    "\n",
    "zcb_df.insert(loc=0, column='0 Mo', value=1)\n",
    "\n",
    "zcb_df = interpolation_zcb(zcb_df, zero_coupon_bond_maturity , dates, '9 Mo', 'T2')\n",
    "zcb_df = interpolation_zcb(zcb_df, option_expiry , dates, '6 Mo_Interpolated', 'T1')\n",
    "\n",
    "zcb_df['6 to 9 Mo'] = zcb_df['9 Mo'] / zcb_df['6 Mo_Interpolated']\n",
    "\n",
    "zcb_df"
   ],
   "metadata": {
    "collapsed": false,
    "pycharm": {
     "name": "#%%\n"
    }
   }
  },
  {
   "cell_type": "code",
   "execution_count": 109,
   "outputs": [
    {
     "name": "stdout",
     "output_type": "stream",
     "text": [
      "0.005736674870307823\n",
      "0.9985678851767026\n"
     ]
    }
   ],
   "source": [
    "kappa = (1/(0.75 - 0.5)) * ((zcb_df['6 Mo_Interpolated'][0] /zcb_df['9 Mo'][0]) - 1)\n",
    "K = (1/ (1 + (0.75 - 0.5) * kappa))\n",
    "\n",
    "print(kappa)\n",
    "print(K)"
   ],
   "metadata": {
    "collapsed": false,
    "pycharm": {
     "name": "#%%\n"
    }
   }
  },
  {
   "cell_type": "code",
   "execution_count": 110,
   "outputs": [
    {
     "name": "stdout",
     "output_type": "stream",
     "text": [
      "PnL for Caplet sold in Jan 2022: -9.068627443826773e-05\n"
     ]
    }
   ],
   "source": [
    "h1_list = []\n",
    "h2_list = []\n",
    "T1 = 0.5\n",
    "T2 = 0.75\n",
    "t = 0\n",
    "i = 0\n",
    "\n",
    "for index,row in zcb_df[start_date_hedge:option_expiry].iloc[:-1].iterrows():\n",
    "    B1 = row['6 Mo_Interpolated']\n",
    "    B2 = row['9 Mo']\n",
    "    h1_list.append(delta(B1, B2, K, t, zcb_df['T1'][index], zcb_df['T2'][index], vol_level, mean_reversion, 1))\n",
    "    h2_list.append(delta(B1, B2, K, t, zcb_df['T1'][index], zcb_df['T2'][index], vol_level, mean_reversion, -1))\n",
    "    i = i + 1\n",
    "\n",
    "h1_list.append(h1_list[-1])\n",
    "h2_list.append(h2_list[-1])\n",
    "sum_p_l = 0\n",
    "i = 1\n",
    "\n",
    "for index,row in zcb_df[start_date_hedge:option_expiry].iloc[1:-1].iterrows():\n",
    "    B1 = row['6 Mo_Interpolated']\n",
    "    B2 = row['9 Mo']\n",
    "\n",
    "    p_l = (B1 * (norm.cdf(-1 * h2_list[i-1]) - norm.cdf(-1 * h2_list[i]))) -\\\n",
    "          (B2 * (1+(zcb_df['T2'][index] - zcb_df['T1'][index])*kappa) * (norm.cdf(-1 * h1_list[i-1]) - norm.cdf(-1 * h1_list[i])))\n",
    "\n",
    "    sum_p_l = sum_p_l + p_l\n",
    "    i = i + 1\n",
    "\n",
    "B1 = zcb_df[start_date_hedge:option_expiry].iloc[-1]['6 Mo_Interpolated']\n",
    "B2 = zcb_df[start_date_hedge:option_expiry].iloc[-1]['9 Mo']\n",
    "\n",
    "p_l = (B1 * (norm.cdf(-1 * h2_list[-1]))) -(B2 * (1+(zcb_df['T2'][-1] - zcb_df['T1'][-1])*kappa) * (norm.cdf(-1 * h1_list[-1]))) - \\\n",
    "      (1/K)*(max(K - zcb_df['6 to 9 Mo'].iloc[i], 0))\n",
    "\n",
    "sum_p_l = sum_p_l + p_l\n",
    "\n",
    "jan_pnl = sum_p_l\n",
    "\n",
    "print(f\"PnL for Caplet sold in Jan 2022: {jan_pnl}\")"
   ],
   "metadata": {
    "collapsed": false,
    "pycharm": {
     "name": "#%%\n"
    }
   }
  },
  {
   "cell_type": "markdown",
   "source": [
    "### Caplet Sold in April:"
   ],
   "metadata": {
    "collapsed": false,
    "pycharm": {
     "name": "#%% md\n"
    }
   }
  },
  {
   "cell_type": "code",
   "execution_count": 111,
   "outputs": [
    {
     "name": "stdout",
     "output_type": "stream",
     "text": [
      "HJM Vol: 0.006282\n",
      "HJM Mean Reversion: -0.027360\n",
      "kappa: 0.0008054197924769468\n",
      "K: 0.9997986855875338\n",
      "PnL for Caplet sold in April 2021: 7.0588652266896645e-06\n"
     ]
    }
   ],
   "source": [
    "beginning_date = '2018-01-02'\n",
    "start_date_hedge = '2021-04-01'\n",
    "option_expiry = '2021-09-30'\n",
    "zero_coupon_bond_maturity = '2021-12-31'\n",
    "\n",
    "delta_t = 1 / 365\n",
    "\n",
    "variance_one = np.var(continuous_yields[beginning_date:start_date_hedge]['1 Mo'].diff())\n",
    "variance_two = np.var(continuous_yields[beginning_date:start_date_hedge]['30 Yr'].diff())\n",
    "\n",
    "t1 = 1 / 12\n",
    "t2 = 30\n",
    "\n",
    "\n",
    "def param_solver(y):\n",
    "    return [((y[0] / y[1]) * (1 / t1) * (1 - np.exp(-y[1] * t1))) ** 2 * delta_t - variance_one,\n",
    "            ((y[0] / y[1] * (1 / t2)) * (1 - np.exp(-y[1] * t2))) ** 2 * delta_t - variance_two]\n",
    "\n",
    "\n",
    "root = spo.fsolve(param_solver, [0.01, 0.01])\n",
    "vol_level = root[0]\n",
    "mean_reversion = root[1]\n",
    "print(f\"HJM Vol: {vol:.6f}\")\n",
    "print(f\"HJM Mean Reversion: {mean_reversion:.6f}\")\n",
    "\n",
    "zcb_df = continuous_yields[start_date_hedge:option_expiry][['1 Mo', '2 Mo', '3 Mo', '6 Mo', '1 Yr']]\n",
    "\n",
    "dates = [1 / 12, 2 / 12, 3 / 12, 6 / 12, 1]\n",
    "\n",
    "for index, date in enumerate(dates):\n",
    "    zcb_df.iloc[:, index] = zcb_df.iloc[:, index].apply(lambda x: np.exp(-x * date))\n",
    "\n",
    "dates = [0, 1 / 12, 2 / 12, 3 / 12, 6 / 12, 1]\n",
    "\n",
    "zcb_df.insert(loc=0, column='0 Mo', value=1)\n",
    "\n",
    "zcb_df = interpolation_zcb(zcb_df, zero_coupon_bond_maturity, dates, '9 Mo', 'T2')\n",
    "zcb_df = interpolation_zcb(zcb_df, option_expiry, dates, '6 Mo_Interpolated', 'T1')\n",
    "\n",
    "zcb_df['6 to 9 Mo'] = zcb_df['9 Mo'] / zcb_df['6 Mo_Interpolated']\n",
    "\n",
    "kappa = (1 / (0.75 - 0.5)) * ((zcb_df['6 Mo_Interpolated'][0] / zcb_df['9 Mo'][0]) - 1)\n",
    "K = (1 / (1 + (0.75 - 0.5) * kappa))\n",
    "\n",
    "print(f\"kappa: {kappa}\")\n",
    "print(f\"K: {K}\")\n",
    "\n",
    "h1_list = []\n",
    "h2_list = []\n",
    "T1 = 0.5\n",
    "T2 = 0.75\n",
    "t = 0\n",
    "i = 0\n",
    "\n",
    "for index, row in zcb_df[start_date_hedge:option_expiry].iloc[:-1].iterrows():\n",
    "    B1 = row['6 Mo_Interpolated']\n",
    "    B2 = row['9 Mo']\n",
    "    h1_list.append(delta(B1, B2, K, t, zcb_df['T1'][index], zcb_df['T2'][index], vol_level, mean_reversion, 1))\n",
    "    h2_list.append(delta(B1, B2, K, t, zcb_df['T1'][index], zcb_df['T2'][index], vol_level, mean_reversion, -1))\n",
    "    i = i + 1\n",
    "\n",
    "h1_list.append(h1_list[-1])\n",
    "h2_list.append(h2_list[-1])\n",
    "sum_p_l = 0\n",
    "i = 1\n",
    "\n",
    "for index, row in zcb_df[start_date_hedge:option_expiry].iloc[1:-1].iterrows():\n",
    "    B1 = row['6 Mo_Interpolated']\n",
    "    B2 = row['9 Mo']\n",
    "\n",
    "    p_l = (B1 * (norm.cdf(-1 * h2_list[i - 1]) - norm.cdf(-1 * h2_list[i]))) - (B2 * (1 + (zcb_df['T2'][index] - zcb_df['T1'][index]) * kappa) * (\n",
    "                norm.cdf(-1 * h1_list[i - 1]) - norm.cdf(-1 * h1_list[i])))\n",
    "\n",
    "sum_p_l = sum_p_l + p_l\n",
    "i = i + 1\n",
    "\n",
    "B1 = zcb_df[start_date_hedge:option_expiry].iloc[-1]['6 Mo_Interpolated']\n",
    "B2 = zcb_df[start_date_hedge:option_expiry].iloc[-1]['9 Mo']\n",
    "\n",
    "p_l = (B1 * (norm.cdf(-1 * h2_list[-1]))) - (\n",
    "            B2 * (1 + (zcb_df['T2'][-1] - zcb_df['T1'][-1]) * kappa) * (norm.cdf(-1 * h1_list[-1]))) - (1 / K) * (max(K - zcb_df['6 to 9 Mo'].iloc[i], 0))\n",
    "\n",
    "sum_p_l = sum_p_l + p_l\n",
    "\n",
    "april_pnl = sum_p_l\n",
    "\n",
    "print(f\"PnL for Caplet sold in April 2021: {april_pnl}\")"
   ],
   "metadata": {
    "collapsed": false,
    "pycharm": {
     "name": "#%%\n"
    }
   }
  },
  {
   "cell_type": "markdown",
   "source": [
    "### Caplet Sold in July:"
   ],
   "metadata": {
    "collapsed": false,
    "pycharm": {
     "name": "#%% md\n"
    }
   }
  },
  {
   "cell_type": "code",
   "execution_count": 112,
   "outputs": [
    {
     "name": "stdout",
     "output_type": "stream",
     "text": [
      "HJM Vol: 0.006282\n",
      "HJM Mean Reversion: -0.028453\n",
      "kappa: 0.0012820594978038002\n",
      "K: 0.999679587822418\n",
      "PnL for Caplet sold in July 2021: -2.0348106272009316e-06\n"
     ]
    }
   ],
   "source": [
    "beginning_date = '2018-01-02'\n",
    "start_date_hedge = '2021-07-01'\n",
    "option_expiry = '2021-12-31'\n",
    "zero_coupon_bond_maturity = '2022-03-31'\n",
    "\n",
    "delta_t = 1 / 365\n",
    "\n",
    "variance_one = np.var(continuous_yields[beginning_date:start_date_hedge]['1 Mo'].diff())\n",
    "variance_two = np.var(continuous_yields[beginning_date:start_date_hedge]['30 Yr'].diff())\n",
    "\n",
    "t1 = 1 / 12\n",
    "t2 = 30\n",
    "\n",
    "\n",
    "def param_solver(y):\n",
    "    return [((y[0] / y[1]) * (1 / t1) * (1 - np.exp(-y[1] * t1))) ** 2 * delta_t - variance_one,\n",
    "            ((y[0] / y[1] * (1 / t2)) * (1 - np.exp(-y[1] * t2))) ** 2 * delta_t - variance_two]\n",
    "\n",
    "\n",
    "root = spo.fsolve(param_solver, [0.01, 0.01])\n",
    "vol_level = root[0]\n",
    "mean_reversion = root[1]\n",
    "print(f\"HJM Vol: {vol:.6f}\")\n",
    "print(f\"HJM Mean Reversion: {mean_reversion:.6f}\")\n",
    "\n",
    "zcb_df = continuous_yields[start_date_hedge:option_expiry][['1 Mo', '2 Mo', '3 Mo', '6 Mo', '1 Yr']]\n",
    "\n",
    "dates = [1 / 12, 2 / 12, 3 / 12, 6 / 12, 1]\n",
    "\n",
    "for index, date in enumerate(dates):\n",
    "    zcb_df.iloc[:, index] = zcb_df.iloc[:, index].apply(lambda x: np.exp(-x * date))\n",
    "\n",
    "dates = [0, 1 / 12, 2 / 12, 3 / 12, 6 / 12, 1]\n",
    "\n",
    "zcb_df.insert(loc=0, column='0 Mo', value=1)\n",
    "\n",
    "zcb_df = interpolation_zcb(zcb_df, zero_coupon_bond_maturity, dates, '9 Mo', 'T2')\n",
    "zcb_df = interpolation_zcb(zcb_df, option_expiry, dates, '6 Mo_Interpolated', 'T1')\n",
    "\n",
    "zcb_df['6 to 9 Mo'] = zcb_df['9 Mo'] / zcb_df['6 Mo_Interpolated']\n",
    "\n",
    "kappa = (1 / (0.75 - 0.5)) * ((zcb_df['6 Mo_Interpolated'][0] / zcb_df['9 Mo'][0]) - 1)\n",
    "K = (1 / (1 + (0.75 - 0.5) * kappa))\n",
    "\n",
    "print(f\"kappa: {kappa}\")\n",
    "print(f\"K: {K}\")\n",
    "\n",
    "h1_list = []\n",
    "h2_list = []\n",
    "T1 = 0.5\n",
    "T2 = 0.75\n",
    "t = 0\n",
    "i = 0\n",
    "\n",
    "for index, row in zcb_df[start_date_hedge:option_expiry].iloc[:-1].iterrows():\n",
    "    B1 = row['6 Mo_Interpolated']\n",
    "    B2 = row['9 Mo']\n",
    "    h1_list.append(delta(B1, B2, K, t, zcb_df['T1'][index], zcb_df['T2'][index], vol_level, mean_reversion, 1))\n",
    "    h2_list.append(delta(B1, B2, K, t, zcb_df['T1'][index], zcb_df['T2'][index], vol_level, mean_reversion, -1))\n",
    "    i = i + 1\n",
    "\n",
    "h1_list.append(h1_list[-1])\n",
    "h2_list.append(h2_list[-1])\n",
    "sum_p_l = 0\n",
    "i = 1\n",
    "\n",
    "for index, row in zcb_df[start_date_hedge:option_expiry].iloc[1:-1].iterrows():\n",
    "    B1 = row['6 Mo_Interpolated']\n",
    "    B2 = row['9 Mo']\n",
    "\n",
    "    p_l = (B1 * (norm.cdf(-1 * h2_list[i - 1]) - norm.cdf(-1 * h2_list[i]))) - (B2 * (1 + (zcb_df['T2'][index] - zcb_df['T1'][index]) * kappa) * (\n",
    "                norm.cdf(-1 * h1_list[i - 1]) - norm.cdf(-1 * h1_list[i])))\n",
    "\n",
    "sum_p_l = sum_p_l + p_l\n",
    "i = i + 1\n",
    "\n",
    "B1 = zcb_df[start_date_hedge:option_expiry].iloc[-1]['6 Mo_Interpolated']\n",
    "B2 = zcb_df[start_date_hedge:option_expiry].iloc[-1]['9 Mo']\n",
    "\n",
    "p_l = (B1 * (norm.cdf(-1 * h2_list[-1]))) - (\n",
    "            B2 * (1 + (zcb_df['T2'][-1] - zcb_df['T1'][-1]) * kappa) * (norm.cdf(-1 * h1_list[-1]))) - (1 / K) * (max(K - zcb_df['6 to 9 Mo'].iloc[i], 0))\n",
    "\n",
    "sum_p_l = sum_p_l + p_l\n",
    "\n",
    "july_pnl = sum_p_l\n",
    "\n",
    "print(f\"PnL for Caplet sold in July 2021: {july_pnl}\")"
   ],
   "metadata": {
    "collapsed": false,
    "pycharm": {
     "name": "#%%\n"
    }
   }
  },
  {
   "cell_type": "markdown",
   "source": [
    "### Caplet Sold in October:"
   ],
   "metadata": {
    "collapsed": false,
    "pycharm": {
     "name": "#%% md\n"
    }
   }
  },
  {
   "cell_type": "code",
   "execution_count": 114,
   "outputs": [
    {
     "name": "stdout",
     "output_type": "stream",
     "text": [
      "HJM Vol: 0.006282\n",
      "HJM Mean Reversion: -0.029953\n",
      "kappa: 0.0012848005821446407\n",
      "K: 0.9996789029908699\n",
      "PnL for Caplet sold in October 2021: 0.0009870881175139973\n"
     ]
    }
   ],
   "source": [
    "beginning_date = '2018-01-02'\n",
    "start_date_hedge = '2021-10-01'\n",
    "option_expiry = '2022-03-31'\n",
    "zero_coupon_bond_maturity = '2022-06-30'\n",
    "\n",
    "delta_t = 1 / 365\n",
    "\n",
    "variance_one = np.var(continuous_yields[beginning_date:start_date_hedge]['1 Mo'].diff())\n",
    "variance_two = np.var(continuous_yields[beginning_date:start_date_hedge]['30 Yr'].diff())\n",
    "\n",
    "t1 = 1 / 12\n",
    "t2 = 30\n",
    "\n",
    "\n",
    "def param_solver(y):\n",
    "    return [((y[0] / y[1]) * (1 / t1) * (1 - np.exp(-y[1] * t1))) ** 2 * delta_t - variance_one,\n",
    "            ((y[0] / y[1] * (1 / t2)) * (1 - np.exp(-y[1] * t2))) ** 2 * delta_t - variance_two]\n",
    "\n",
    "\n",
    "root = spo.fsolve(param_solver, [0.01, 0.01])\n",
    "vol_level = root[0]\n",
    "mean_reversion = root[1]\n",
    "print(f\"HJM Vol: {vol:.6f}\")\n",
    "print(f\"HJM Mean Reversion: {mean_reversion:.6f}\")\n",
    "\n",
    "zcb_df = continuous_yields[start_date_hedge:option_expiry][['1 Mo', '2 Mo', '3 Mo', '6 Mo', '1 Yr']]\n",
    "\n",
    "dates = [1 / 12, 2 / 12, 3 / 12, 6 / 12, 1]\n",
    "\n",
    "for index, date in enumerate(dates):\n",
    "    zcb_df.iloc[:, index] = zcb_df.iloc[:, index].apply(lambda x: np.exp(-x * date))\n",
    "\n",
    "dates = [0, 1 / 12, 2 / 12, 3 / 12, 6 / 12, 1]\n",
    "\n",
    "zcb_df.insert(loc=0, column='0 Mo', value=1)\n",
    "\n",
    "zcb_df = interpolation_zcb(zcb_df, zero_coupon_bond_maturity, dates, '9 Mo', 'T2')\n",
    "zcb_df = interpolation_zcb(zcb_df, option_expiry, dates, '6 Mo_Interpolated', 'T1')\n",
    "\n",
    "zcb_df['6 to 9 Mo'] = zcb_df['9 Mo'] / zcb_df['6 Mo_Interpolated']\n",
    "\n",
    "kappa = (1 / (0.75 - 0.5)) * ((zcb_df['6 Mo_Interpolated'][0] / zcb_df['9 Mo'][0]) - 1)\n",
    "K = (1 / (1 + (0.75 - 0.5) * kappa))\n",
    "\n",
    "print(f\"kappa: {kappa}\")\n",
    "print(f\"K: {K}\")\n",
    "\n",
    "h1_list = []\n",
    "h2_list = []\n",
    "T1 = 0.5\n",
    "T2 = 0.75\n",
    "t = 0\n",
    "i = 0\n",
    "\n",
    "for index, row in zcb_df[start_date_hedge:option_expiry].iloc[:-1].iterrows():\n",
    "    B1 = row['6 Mo_Interpolated']\n",
    "    B2 = row['9 Mo']\n",
    "    h1_list.append(delta(B1, B2, K, t, zcb_df['T1'][index], zcb_df['T2'][index], vol_level, mean_reversion, 1))\n",
    "    h2_list.append(delta(B1, B2, K, t, zcb_df['T1'][index], zcb_df['T2'][index], vol_level, mean_reversion, -1))\n",
    "    i = i + 1\n",
    "\n",
    "h1_list.append(h1_list[-1])\n",
    "h2_list.append(h2_list[-1])\n",
    "sum_p_l = 0\n",
    "i = 1\n",
    "\n",
    "for index, row in zcb_df[start_date_hedge:option_expiry].iloc[1:-1].iterrows():\n",
    "    B1 = row['6 Mo_Interpolated']\n",
    "    B2 = row['9 Mo']\n",
    "\n",
    "    p_l = (B1 * (norm.cdf(-1 * h2_list[i - 1]) - norm.cdf(-1 * h2_list[i]))) - (B2 * (1 + (zcb_df['T2'][index] - zcb_df['T1'][index]) * kappa) * (\n",
    "                norm.cdf(-1 * h1_list[i - 1]) - norm.cdf(-1 * h1_list[i])))\n",
    "\n",
    "sum_p_l = sum_p_l + p_l\n",
    "i = i + 1\n",
    "\n",
    "B1 = zcb_df[start_date_hedge:option_expiry].iloc[-1]['6 Mo_Interpolated']\n",
    "B2 = zcb_df[start_date_hedge:option_expiry].iloc[-1]['9 Mo']\n",
    "\n",
    "p_l = (B1 * (norm.cdf(-1 * h2_list[-1]))) - (\n",
    "            B2 * (1 + (zcb_df['T2'][-1] - zcb_df['T1'][-1]) * kappa) * (norm.cdf(-1 * h1_list[-1]))) - (1 / K) * (max(K - zcb_df['6 to 9 Mo'].iloc[i], 0))\n",
    "\n",
    "sum_p_l = sum_p_l + p_l\n",
    "\n",
    "october_pnl = sum_p_l\n",
    "\n",
    "print(f\"PnL for Caplet sold in October 2021: {october_pnl}\")"
   ],
   "metadata": {
    "collapsed": false,
    "pycharm": {
     "name": "#%%\n"
    }
   }
  },
  {
   "cell_type": "markdown",
   "source": [
    "### Possible causes of Profit and Loss\n",
    "\n",
    "As usual the hedging argument relies on the ability to continuously hedge. However, in our real world case, we are hedging discretely for the days we have available which introduces volatility in the PnL as the value of the underlying and the hedge instruments change between rebalancing periods, leading to changes in PnL beyond 0.\n",
    "\n",
    "Our choice of a one-factor HJM model also introduces model risk into our hedging strategy. The one-factor model is only able to account for changes in the level of the yield curve but not changes in the shape/curvature. This means that if short rates relative to long rates were to change on more than a 1 to 1 basis our model and our hedging strategy would be unable to account for this move in curvature. This 'blind spot' in the model and our hedging strategy means that it is impossible to create a perfect hedge using a one-factor model which results in a terminal PnL that is different from 0."
   ],
   "metadata": {
    "collapsed": false,
    "pycharm": {
     "name": "#%% md\n"
    }
   }
  },
  {
   "cell_type": "code",
   "execution_count": 113,
   "outputs": [],
   "source": [],
   "metadata": {
    "collapsed": false,
    "pycharm": {
     "name": "#%%\n"
    }
   }
  }
 ],
 "metadata": {
  "kernelspec": {
   "display_name": "Python 3",
   "language": "python",
   "name": "python3"
  },
  "language_info": {
   "codemirror_mode": {
    "name": "ipython",
    "version": 3
   },
   "file_extension": ".py",
   "mimetype": "text/x-python",
   "name": "python",
   "nbconvert_exporter": "python",
   "pygments_lexer": "ipython3",
   "version": "3.7.1"
  }
 },
 "nbformat": 4,
 "nbformat_minor": 2
}