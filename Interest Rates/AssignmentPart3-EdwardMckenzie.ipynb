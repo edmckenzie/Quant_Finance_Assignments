{
 "cells": [
  {
   "cell_type": "markdown",
   "metadata": {
    "pycharm": {
     "name": "#%% md\n"
    }
   },
   "source": [
    "<h1 style=\"font-family:Impact,Arial;font-size:30px;\">37004 Interest Rates and Credit Risk Models - Spring 2022</h1>\n",
    "<h1 style=\"font-family:Impact,Arial;font-size:45px;\">Assignment Part 3</h1>\n",
    "<h2 style=\"font-family:Arial;\">Erik Schl&ouml;gl</h2>\n",
    "<p><small> School of Mathematical &amp; Physical Sciences<br>\n",
    "University of Technology Sydney\n",
    "</small></p>\n",
    "<p>\n",
    "<a href=\"mailto:Erik.Schlogl@uts.edu.au?Subject=37000 JIT\" target=\"_blank\">\n",
    "<small><font color=MediumVioletRed>Erik.Schlogl@uts.edu.au</font></small></a>\n",
    "</p>\n",
    "<hr style=\"height:5px;border:none;color:#333;background-color:#333;\" />"
   ]
  },
  {
   "cell_type": "markdown",
   "metadata": {
    "pycharm": {
     "name": "#%% md\n"
    }
   },
   "source": [
    "In all the tasks below, suppose that current default–free interest rates are 1.5% continuously compounded, for all maturities. Suppose further that a corporate entity has issued &euro;150 million of corporate debt (only), paying no coupons and maturing in 10 years. This entity has a market capitalisation of &euro;28 million and the volatility of its share price is approximately 40%.\n",
    "\n",
    "<H2>Task 1:</H2>\n",
    "Using the Black-Scholes/Merton model of credit risk as explained in Lecture 7, determine the value of the debt. What is the credit spread (in terms of continuously compounded yields) for this entity? <I>(5 marks)</I>"
   ]
  },
  {
   "cell_type": "code",
   "execution_count": 15,
   "outputs": [],
   "source": [
    "import numpy as np\n",
    "import pandas as pd\n",
    "from scipy.optimize import fsolve\n",
    "from scipy.stats import norm"
   ],
   "metadata": {
    "collapsed": false,
    "pycharm": {
     "name": "#%%\n"
    }
   }
  },
  {
   "cell_type": "code",
   "execution_count": 16,
   "metadata": {
    "pycharm": {
     "name": "#%%\n"
    }
   },
   "outputs": [
    {
     "name": "stdout",
     "output_type": "stream",
     "text": [
      "Market Value of Firm: 144.65552922871257\n",
      "Volatility of Firm Value: 0.11208381315282157\n",
      "Market Value of Debt = 116.65552922871257\n"
     ]
    }
   ],
   "source": [
    "rf = 0.015\n",
    "E = 28\n",
    "K = 150\n",
    "T = 10\n",
    "sgm_e = 0.4\n",
    "\n",
    "#Set up 2 equations and 2 unknowns to solve for V and sgm_v\n",
    "\n",
    "def f_1(V,sgm_v,debt,r,ttm,equity):\n",
    "    d1 = (np.log(V/debt)+(r+0.5*sgm_v**2)*(ttm))/(sgm_v*np.sqrt(ttm))\n",
    "    d2 = d1 - sgm_v*np.sqrt(ttm)\n",
    "\n",
    "    return (equity + debt*np.exp(-r*ttm)*norm.cdf(d2))/(norm.cdf(d1)) - V\n",
    "\n",
    "def f_2(V,sgm_v,debt,r,ttm,equity,equity_vol):\n",
    "    d1 = (np.log(V/debt)+(r+0.5*sgm_v**2)*(ttm))/(sgm_v*np.sqrt(ttm))\n",
    "\n",
    "    return equity_vol/(norm.cdf(d1)*(V/equity)) - sgm_v\n",
    "\n",
    "def hg(xy):\n",
    "    V = xy[0]\n",
    "    sgm_v = xy[1]\n",
    "\n",
    "    h = f_1(V,sgm_v,K,rf,T,E)\n",
    "    g = f_2(V,sgm_v,K,rf,T,E,sgm_e)\n",
    "\n",
    "    return np.array([h,g])\n",
    "\n",
    "guess = np.array([100,0.1])\n",
    "\n",
    "firm_value = fsolve(hg,guess)[0]\n",
    "firm_vol = fsolve(hg,guess)[1]\n",
    "\n",
    "value_of_debt = firm_value - E\n",
    "\n",
    "print(f\"Market Value of Firm: {firm_value}\")\n",
    "print(f\"Volatility of Firm Value: {firm_vol}\")\n",
    "print(f\"Market Value of Debt = {value_of_debt}\")"
   ]
  },
  {
   "cell_type": "code",
   "execution_count": 17,
   "outputs": [
    {
     "data": {
      "text/plain": "0.025140989659175255"
     },
     "execution_count": 17,
     "metadata": {},
     "output_type": "execute_result"
    }
   ],
   "source": [
    "risky_yield = -np.log(value_of_debt/K)/T\n",
    "risky_yield"
   ],
   "metadata": {
    "collapsed": false,
    "pycharm": {
     "name": "#%%\n"
    }
   }
  },
  {
   "cell_type": "code",
   "execution_count": 18,
   "outputs": [
    {
     "name": "stdout",
     "output_type": "stream",
     "text": [
      "Credit Spread = 0.010140989659175256\n"
     ]
    }
   ],
   "source": [
    "credit_spread = risky_yield - rf\n",
    "print(f\"Credit Spread = {credit_spread}\")"
   ],
   "metadata": {
    "collapsed": false,
    "pycharm": {
     "name": "#%%\n"
    }
   }
  },
  {
   "cell_type": "markdown",
   "metadata": {
    "pycharm": {
     "name": "#%% md\n"
    }
   },
   "source": [
    "<H2>Task 2:</H2>\n",
    "Assume now that the default-free bond price dynamics and firm's value process are given by\n",
    "\\begin{eqnarray*}\n",
    "\\frac{dB(t,T)}{B(t,T)}&=&rdt+\\sigma_r\\cdot(T-t)dW_1(t)\\\\\n",
    "\\frac{dV(t)}{V(t)}&=&rdt+\\sigma_V\\left(\\rho\n",
    "dW_1(t)+\\sqrt{1-\\rho^2}dW_2(t)\\right)\n",
    "\\end{eqnarray*}\n",
    "with $W_1$ and $W_2$ independent Brownian motions under the spot risk-neutral measure. Assume further that the firm defaults at time $\\tau$ if \n",
    "$$\n",
    "V(\\tau)<B(\\tau,T)K\n",
    "$$\n",
    "where $T$ is the maturity of the debt and $K$ is the face value of the debt. In the event of default at time $\\tau$, the debt holders receive a total of $KcB(\\tau,T)$ at time $\\tau$.\n",
    "\n",
    "In addition to the information given above, assume $\\rho=-0.4$ and $\\sigma_r=0.015$. Determine the value of the debt as a function of $c$. Plot the credit spread (in terms of continuously compounded yields) for this entity as a function of $c$ for $0<c<1$. <I>(5 marks)</I>"
   ]
  },
  {
   "cell_type": "markdown",
   "source": [
    "Under a model with stochastic interest rates, the price of equity can be calculated as:\n",
    "\n",
    "$$ E = V \\times \\left(N\\left(\\frac{k - 0.5 \\times Q(T)}{\\sqrt{Q(T)}}\\right) - e^{-2k}\\times N\\left(\\frac{-k - 0.5\\times Q(T)}{\\sqrt{Q(T)}}\\right)\\right) - KB\\times \\left(N\\left(\\frac{k + 0.5 \\times Q(T)}{\\sqrt{Q(T)}}\\right) - e^{-2k}\\times N\\left(\\frac{-k + 0.5\\times Q(T)}{\\sqrt{Q(T)}}\\right)\\right)$$\n",
    "\n",
    "From Mathematica, the partial derivative of equity with respect to the firms value is then:\n",
    "\n",
    "$$ \\frac{B^2 K^2 \\sqrt{Q(T)} V \\text{CDF}\\left[\\frac{-k-0.5 Q(T)}{\\sqrt{Q(T)}}\\right]-2 B^3 K^3 \\sqrt{Q(T)} \\text{CDF}\\left[\\frac{0.5 Q(T)-k}{\\sqrt{Q(T)}}\\right]+\\sqrt{Q(T)} V^3 \\text{CDF}\\left[\\frac{k-0.5 Q(T)}{\\sqrt{Q(T)}}\\right]+B^2 K^2 V \\text{CDF}'\\left(\\frac{-k-0.5 Q(T)}{\\sqrt{Q(T)}}\\right)-B^3 K^3 \\text{CDF}'\\left(\\frac{0.5 Q(T)-k}{\\sqrt{Q(T)}}\\right)+V^3 \\text{CDF}'\\left(\\frac{k-0.5 Q(T)}{\\sqrt{Q(T)}}\\right)-B K V^2 \\text{CDF}'\\left(\\frac{k+0.5 Q(T)}{\\sqrt{Q(T)}}\\right)}{\\sqrt{Q(T)} V^3} $$\n",
    "\n",
    "The relation between the volatility of equity and volatility of the firms value is:\n",
    "\n",
    "$$ \\sigma_E = \\frac{\\partial E}{\\partial V} \\times \\frac{V}{E} \\times \\sigma_V $$\n",
    "\n",
    "Using these functions we can solve for V and Sigma_V:\n"
   ],
   "metadata": {
    "collapsed": false,
    "pycharm": {
     "name": "#%% md\n"
    }
   }
  },
  {
   "cell_type": "code",
   "execution_count": 19,
   "outputs": [],
   "source": [
    "import matplotlib.pyplot as plt\n",
    "import pandas as pd"
   ],
   "metadata": {
    "collapsed": false,
    "pycharm": {
     "name": "#%%\n"
    }
   }
  },
  {
   "cell_type": "code",
   "execution_count": 20,
   "outputs": [],
   "source": [
    "r = 0.015\n",
    "T = 10\n",
    "sgm_e = 0.4\n",
    "E = 28000000\n",
    "K = 150000000\n",
    "B = np.exp(-r * T)\n",
    "rho = -0.4\n",
    "sgm_r = 0.015"
   ],
   "metadata": {
    "collapsed": false,
    "pycharm": {
     "name": "#%%\n"
    }
   }
  },
  {
   "cell_type": "code",
   "execution_count": 21,
   "outputs": [],
   "source": [
    "def Q(sgm_v, rho, T, sgm_r):\n",
    "    return sgm_v**2*T - rho*sgm_v*sgm_r*T**2 + (1/3)*sgm_r**2*(T**3)\n",
    "\n",
    "def k(V, K, B):\n",
    "    return np.log(V/(B*K))\n",
    "\n",
    "def func_E_solver(V, K, B, sgm_v, T, rho, sgm_r):\n",
    "    QT = Q(sgm_v,rho,T,sgm_r)\n",
    "    little_k = k(V,K,B)\n",
    "    return  V*(norm.cdf((little_k-0.5*QT)/np.sqrt(QT)) -np.exp(-2*little_k)*norm.cdf((-little_k-0.5*QT)/np.sqrt(QT))) - K*B*(norm.cdf((little_k+0.5*QT)/np.sqrt(QT)) - np.exp(-2*little_k)*norm.cdf((-little_k+0.5*QT)/np.sqrt(QT)))\n",
    "\n",
    "\n",
    "def deriv_E_solver(V,K,B,sgm_v,T,rho,sgm_r):\n",
    "    QT = Q(sgm_v,rho,T,sgm_r)\n",
    "    little_k = k(V,K,B)\n",
    "    term1 = B**2*K**2*np.sqrt(QT)*V*norm.cdf((-little_k-0.5*QT)/np.sqrt(QT))\n",
    "    term2 = 2*B**3*K**3*np.sqrt(QT)*norm.cdf((-little_k + 0.5*QT)/np.sqrt(QT))\n",
    "    term3 = np.sqrt(QT)*V**3*norm.cdf((little_k-0.5*QT)/np.sqrt(QT))\n",
    "    term4 = B**2*K**2*V*norm.pdf((-little_k-0.5*QT)/np.sqrt(QT))\n",
    "    term5 = B**3*K**3*norm.pdf((-little_k+0.5*QT)/np.sqrt(QT))\n",
    "    term6 = V**3*norm.pdf((little_k-0.5*QT)/np.sqrt(QT))\n",
    "    term7 = B*K*V**2*norm.pdf((little_k+0.5*QT)/np.sqrt(QT))\n",
    "\n",
    "    return (1/(np.sqrt(QT)*V**3))*(term1 - term2 + term3 + term4 - term5 + term6 - term7)*(V/E)*sgm_v"
   ],
   "metadata": {
    "collapsed": false,
    "pycharm": {
     "name": "#%%\n"
    }
   }
  },
  {
   "cell_type": "code",
   "execution_count": 22,
   "outputs": [
    {
     "name": "stdout",
     "output_type": "stream",
     "text": [
      "Market Value of Firm: 180085735.0144086\n",
      "Volatility of Firm Value: 0.059493778584273904\n"
     ]
    }
   ],
   "source": [
    "def hg(xy, *parameters):\n",
    "    V = xy[0]\n",
    "    sgm_v = xy[1]\n",
    "    K, B, T, rho, sgm_r, E, sgm_e = parameters\n",
    "\n",
    "    h = func_E_solver(V, K, B, sgm_v, T, rho, sgm_r)\n",
    "    g = deriv_E_solver(V,K,B,sgm_v,T,rho,sgm_r)\n",
    "\n",
    "    return np.array([h-E,g-sgm_e])\n",
    "\n",
    "guess = np.array([200000000,0.10])\n",
    "params = (K, B, T, rho, sgm_r, E, sgm_e)\n",
    "vals = fsolve(hg, guess, args=params)\n",
    "firm_value = vals[0]\n",
    "firm_vol = vals[1]\n",
    "print(f\"Market Value of Firm: {firm_value}\")\n",
    "print(f\"Volatility of Firm Value: {firm_vol}\")"
   ],
   "metadata": {
    "collapsed": false,
    "pycharm": {
     "name": "#%%\n"
    }
   }
  },
  {
   "cell_type": "code",
   "execution_count": 23,
   "outputs": [
    {
     "data": {
      "text/plain": "    Recovery Rate  Value of Debt\n0        0.000000   9.401234e+07\n1        0.010101   9.436682e+07\n2        0.020202   9.472131e+07\n3        0.030303   9.507579e+07\n4        0.040404   9.543027e+07\n..            ...            ...\n95       0.959596   1.276883e+08\n96       0.969697   1.280427e+08\n97       0.979798   1.283972e+08\n98       0.989899   1.287517e+08\n99       1.000000   1.291062e+08\n\n[100 rows x 2 columns]",
      "text/html": "<div>\n<style scoped>\n    .dataframe tbody tr th:only-of-type {\n        vertical-align: middle;\n    }\n\n    .dataframe tbody tr th {\n        vertical-align: top;\n    }\n\n    .dataframe thead th {\n        text-align: right;\n    }\n</style>\n<table border=\"1\" class=\"dataframe\">\n  <thead>\n    <tr style=\"text-align: right;\">\n      <th></th>\n      <th>Recovery Rate</th>\n      <th>Value of Debt</th>\n    </tr>\n  </thead>\n  <tbody>\n    <tr>\n      <th>0</th>\n      <td>0.000000</td>\n      <td>9.401234e+07</td>\n    </tr>\n    <tr>\n      <th>1</th>\n      <td>0.010101</td>\n      <td>9.436682e+07</td>\n    </tr>\n    <tr>\n      <th>2</th>\n      <td>0.020202</td>\n      <td>9.472131e+07</td>\n    </tr>\n    <tr>\n      <th>3</th>\n      <td>0.030303</td>\n      <td>9.507579e+07</td>\n    </tr>\n    <tr>\n      <th>4</th>\n      <td>0.040404</td>\n      <td>9.543027e+07</td>\n    </tr>\n    <tr>\n      <th>...</th>\n      <td>...</td>\n      <td>...</td>\n    </tr>\n    <tr>\n      <th>95</th>\n      <td>0.959596</td>\n      <td>1.276883e+08</td>\n    </tr>\n    <tr>\n      <th>96</th>\n      <td>0.969697</td>\n      <td>1.280427e+08</td>\n    </tr>\n    <tr>\n      <th>97</th>\n      <td>0.979798</td>\n      <td>1.283972e+08</td>\n    </tr>\n    <tr>\n      <th>98</th>\n      <td>0.989899</td>\n      <td>1.287517e+08</td>\n    </tr>\n    <tr>\n      <th>99</th>\n      <td>1.000000</td>\n      <td>1.291062e+08</td>\n    </tr>\n  </tbody>\n</table>\n<p>100 rows × 2 columns</p>\n</div>"
     },
     "execution_count": 23,
     "metadata": {},
     "output_type": "execute_result"
    }
   ],
   "source": [
    "c = np.linspace(0,1,100)\n",
    "little_k = k(firm_value,K,B)\n",
    "QT = Q(firm_vol,rho,T,sgm_r)\n",
    "p_default = norm.cdf((little_k+0.5*QT)/np.sqrt(QT)) - np.exp(-2*little_k)*norm.cdf((-little_k+0.5*QT)/np.sqrt(QT))\n",
    "\n",
    "credit_spreads = []\n",
    "debt_values = []\n",
    "\n",
    "for i in range(len(c)):\n",
    "    risky_bond = B*(1-(1-c[i])*(1-p_default))\n",
    "    y = -np.log(risky_bond)/T\n",
    "    spread = y - r\n",
    "    debt = risky_bond*K\n",
    "    credit_spreads.append(spread*100)\n",
    "    debt_values.append(debt)\n",
    "\n",
    "df = pd.DataFrame(list(zip(c,debt_values)), columns=['Recovery Rate','Value of Debt'])\n",
    "df"
   ],
   "metadata": {
    "collapsed": false,
    "pycharm": {
     "name": "#%%\n"
    }
   }
  },
  {
   "cell_type": "code",
   "execution_count": 24,
   "outputs": [
    {
     "data": {
      "text/plain": "<Figure size 432x288 with 1 Axes>",
      "image/png": "[encoded data removed]"
     },
     "metadata": {
      "needs_background": "light"
     },
     "output_type": "display_data"
    }
   ],
   "source": [
    "plt.plot(c,credit_spreads)\n",
    "plt.title('Credit Spreads as a Function of the Recovery Rate')\n",
    "plt.ylabel('Credit Spread %')\n",
    "plt.xlabel('Recovery Rate')\n",
    "plt.grid()\n",
    "plt.show()"
   ],
   "metadata": {
    "collapsed": false,
    "pycharm": {
     "name": "#%%\n"
    }
   }
  },
  {
   "cell_type": "markdown",
   "metadata": {
    "pycharm": {
     "name": "#%% md\n"
    }
   },
   "source": [
    "<H2>Task 3:</H2>\n",
    "Returning to a model where interest rates are deterministic and default only occurs at maturity when $V(T)<K$, i.e. when the firm's value at maturity is less than the face value of the outstanding debt, consider a Poisson process $N$ with intensity $\\lambda$ under the risk-neutral measure. Let $(U_i)_{i\\geq1}$ be a sequence of i.i.d. random variables with expectation $\\nu$. Assume that the $\\sigma$-fields generated by $W$, $N$ and $(U_i)_{i\\geq1}$ are mutually independent under the risk-neutral measure.\n",
    "Define\n",
    "$$\n",
    "\\pi(t)=\\sum_{i=1}^{N(t)}U_i\n",
    "$$\n",
    "and write the dynamics of $V$ as\n",
    "$$\n",
    "dV(t)=V(t-)((r-\\lambda\\nu)dt+\\sigma_VdW_{\\beta}(t)+\\Delta\\pi(t))\n",
    "$$ \n",
    "Assume further that the $U_i+1$ are lognormally distributed, i.e.\n",
    "$$\n",
    "\\ln(U_i+1)\\sim\\mathcal{N}(\\mu,\\sigma)\n",
    "$$\n",
    "Write a Python function which calculates the credit spread (in terms of continuously compounded yields) for this entity, taking as inputs (in this order) $V(0)$, $K$, $T$, $r$, $\\sigma_V$, $\\lambda$, $\\mu$ and $\\sigma$.  <I>(5 marks)</I>"
   ]
  },
  {
   "cell_type": "code",
   "execution_count": 25,
   "metadata": {
    "pycharm": {
     "name": "#%%\n"
    }
   },
   "outputs": [],
   "source": [
    "import math\n",
    "\n",
    "def CreditSpreadsWithJumps(V0,K,T,r,sgm_v,lam,mu,sgm):\n",
    "\n",
    "    n = 0\n",
    "    summation = 1\n",
    "    value = 0\n",
    "\n",
    "    ZCB = np.exp(-r*T)\n",
    "\n",
    "    nu = np.exp(mu + 0.5*sgm**2) - 1\n",
    "\n",
    "    while summation >= 0.5*10e-4:\n",
    "\n",
    "        mu_i = (r - 0.5*sgm_v**2 - lam*nu)*(T) + n*mu\n",
    "\n",
    "        var_i = T*sgm_v**2 + n*sgm**2\n",
    "\n",
    "        d2 = (np.log(V0/K) + mu_i)/np.sqrt(var_i)\n",
    "        d1 = d2 + np.sqrt(var_i)\n",
    "\n",
    "        poisson = np.exp(-lam*T)*(((lam*T)**n)/math.factorial(n))\n",
    "\n",
    "        summation = poisson*(V0*np.exp(mu_i + 0.5*var_i)*norm.cdf(d1) - K*norm.cdf(d2))\n",
    "\n",
    "        value += summation\n",
    "\n",
    "        n += 1\n",
    "\n",
    "    equity = value*ZCB\n",
    "\n",
    "    debt_value = V0 - equity\n",
    "\n",
    "    default_yield = -np.log(debt_value/K)/T\n",
    "\n",
    "    spread = default_yield - r\n",
    "\n",
    "    return spread"
   ]
  },
  {
   "cell_type": "code",
   "execution_count": 26,
   "outputs": [
    {
     "data": {
      "text/plain": "0.03983780589640817"
     },
     "execution_count": 26,
     "metadata": {},
     "output_type": "execute_result"
    }
   ],
   "source": [
    "answer = CreditSpreadsWithJumps(50000000, 40000000, 10, 0.015, 0.3, 0.9, -0.1, 0.2)\n",
    "answer"
   ],
   "metadata": {
    "collapsed": false,
    "pycharm": {
     "name": "#%%\n"
    }
   }
  }
 ],
 "metadata": {
  "kernelspec": {
   "display_name": "Python 3",
   "language": "python",
   "name": "python3"
  },
  "language_info": {
   "codemirror_mode": {
    "name": "ipython",
    "version": 3
   },
   "file_extension": ".py",
   "mimetype": "text/x-python",
   "name": "python",
   "nbconvert_exporter": "python",
   "pygments_lexer": "ipython3",
   "version": "3.7.9"
  }
 },
 "nbformat": 4,
 "nbformat_minor": 4
}